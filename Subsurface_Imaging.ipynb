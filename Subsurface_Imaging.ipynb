{
 "cells": [
  {
   "cell_type": "code",
   "execution_count": 53,
   "metadata": {},
   "outputs": [],
   "source": [
    "from IPython.display import clear_output\n",
    "import numpy as np\n",
    "import sympy as sp\n",
    "from fractions import Fraction"
   ]
  },
  {
   "cell_type": "code",
   "execution_count": 54,
   "metadata": {},
   "outputs": [],
   "source": [
    "from qiskit import IBMQ\n",
    "from qiskit_optimization import QuadraticProgram\n",
    "from qiskit import Aer\n",
    "from qiskit.utils import QuantumInstance\n",
    "from qiskit_optimization.algorithms import MinimumEigenOptimizer\n",
    "from qiskit.algorithms import QAOA"
   ]
  },
  {
   "cell_type": "code",
   "execution_count": 55,
   "metadata": {},
   "outputs": [],
   "source": [
    "#IBMQ.load_account()\n",
    "#provider = IBMQ.get_provider(hub='ibm-q')"
   ]
  },
  {
   "cell_type": "code",
   "execution_count": 56,
   "metadata": {},
   "outputs": [],
   "source": [
    "clear_output()"
   ]
  },
  {
   "cell_type": "markdown",
   "metadata": {},
   "source": [
    "## Define Functions"
   ]
  },
  {
   "cell_type": "code",
   "execution_count": 57,
   "metadata": {},
   "outputs": [],
   "source": [
    "def construct_function(kl, kh, n, h):\n",
    "    function = 0\n",
    "    sp.init_printing(use_unicode=True)\n",
    "    \n",
    "    # construct variables for each permeability\n",
    "    for i in range(1,n):\n",
    "        globals()['q%s' % i] = sp.symbols('q'+str(i))\n",
    "        globals()['h%s' % i] = sp.symbols('q'+str(i))\n",
    "        \n",
    "    # for each permeability, add its contribution to the total cost function\n",
    "    for i in range(2,n):\n",
    "        term = ((kl+globals()['q%s' % (i-1)]*(kh-kl))*(h[i-2]-h[i-1])+(kl+globals()['q%s' % (i)]*(kh-kl))*(h[i]-h[i-1]))**2\n",
    "        function = function + term\n",
    "        \n",
    "    # expand and simplify the cost function\n",
    "    function = sp.expand(function)\n",
    "    \n",
    "    # convert all square terms into linear terms as qi^2 = qi = 0 or 1 for all i and simplify the cost function\n",
    "    for i in range(1,n):\n",
    "        function = function.subs(sp.symbols('q'+str(i))**2, (sp.symbols('q'+str(i))))\n",
    "        coeffs = sp.Poly(function).as_dict()\n",
    "        \n",
    "    # function in sympy form and coefficients of all terms in an easily readble dictionary form returned\n",
    "    return function, coeffs"
   ]
  },
  {
   "cell_type": "code",
   "execution_count": 58,
   "metadata": {},
   "outputs": [],
   "source": [
    "def generate_QP(coeffs, n):\n",
    "    qp = QuadraticProgram()\n",
    "    for i in range(1,n):\n",
    "        qp.binary_var('q'+str(i))\n",
    "    constant = 0\n",
    "    linear = {}\n",
    "    quadratic = {}\n",
    "    for key,value in coeffs.items():\n",
    "        if sum(key) == 0:\n",
    "            constant = float(value)\n",
    "        elif sum(key) == 1:\n",
    "            term = 'q'+str(np.argmax(key)+1)\n",
    "            linear[term] = float(value)\n",
    "        else:\n",
    "            indices = [i[0] for i in np.argwhere(np.array(key)>0)]\n",
    "            term = ('q'+str(indices[0]+1),'q'+str(indices[1]+1))\n",
    "            quadratic[term] = float(value)\n",
    "    qp.minimize(linear=linear, quadratic=quadratic, constant=constant)\n",
    "    print(qp.export_as_lp_string())\n",
    "    return qp"
   ]
  },
  {
   "cell_type": "code",
   "execution_count": 59,
   "metadata": {},
   "outputs": [],
   "source": [
    "def hydrologic_inverse_analysis(kl,kh,n,h):\n",
    "    function, coeffs = construct_function(kl,kh,n,h)\n",
    "    print('Function in Sympy:', function)\n",
    "    qp = generate_QP(coeffs,n)\n",
    "    qins = QuantumInstance(backend=Aer.get_backend('qasm_simulator'), shots=1000, seed_simulator=123)\n",
    "    meo = MinimumEigenOptimizer(min_eigen_solver=QAOA(reps=1, quantum_instance=qins))\n",
    "    result = meo.solve(qp)\n",
    "    print('\\nrun time:', result.min_eigen_solver_result.optimizer_time)\n",
    "    print(result)\n",
    "    k = [int(i) for i in list(kl+result.x*(kh-kl))]\n",
    "    print('k_res: ', k)\n",
    "    return k"
   ]
  },
  {
   "cell_type": "code",
   "execution_count": 60,
   "metadata": {},
   "outputs": [],
   "source": [
    "def evaluate_performance(k_true,k_res):\n",
    "    total_number = len(k_true)\n",
    "    false_count = 0\n",
    "    for i in range(len(k_true)):\n",
    "        if k_true[i] != k_res[i]:\n",
    "            false_count += 1\n",
    "    error_rate = false_count / total_number\n",
    "    print('Error Rate = '+ str(error_rate*100)+'%')\n",
    "    return error_rate"
   ]
  },
  {
   "cell_type": "markdown",
   "metadata": {},
   "source": [
    "## Small 1D Problem"
   ]
  },
  {
   "cell_type": "markdown",
   "metadata": {},
   "source": [
    "Given: 3 heads with $h1=1, h2=\\frac{1}{3}, h3=0$ <br>\n",
    "Assumption: $k_l = 1, k_h = 2$ <br>\n",
    "Task: minimize  $f(q1, q2) = 8q_1/9 − q_2/9 − 4q_1q_2/9 + 1/9$"
   ]
  },
  {
   "cell_type": "code",
   "execution_count": 61,
   "metadata": {},
   "outputs": [],
   "source": [
    "k_true = [1,2]"
   ]
  },
  {
   "cell_type": "code",
   "execution_count": 62,
   "metadata": {},
   "outputs": [],
   "source": [
    "kl = 1\n",
    "kh = 2\n",
    "n = 3\n",
    "h = [1,1/3,0]"
   ]
  },
  {
   "cell_type": "code",
   "execution_count": 63,
   "metadata": {},
   "outputs": [
    {
     "name": "stdout",
     "output_type": "stream",
     "text": [
      "Function in Sympy: -0.444444444444444*q1*q2 + 0.888888888888889*q1 - 0.111111111111111*q2 + 0.111111111111111\n",
      "\\ This file has been generated by DOcplex\n",
      "\\ ENCODING=ISO-8859-1\n",
      "\\Problem name: CPLEX\n",
      "\n",
      "Minimize\n",
      " obj: 0.888888888889 q1 - 0.111111111111 q2 + [ - 0.888888888889 q1*q2 ]/2 +\n",
      "      0.111111111111\n",
      "Subject To\n",
      "\n",
      "Bounds\n",
      " 0 <= q1 <= 1\n",
      " 0 <= q2 <= 1\n",
      "\n",
      "Binaries\n",
      " q1 q2\n",
      "End\n",
      "\n",
      "\n",
      "run time: 0.019388198852539062\n",
      "optimal function value: 2.7755575615628914e-17\n",
      "optimal value: [0. 1.]\n",
      "status: SUCCESS\n",
      "k_res:  [1, 2]\n"
     ]
    }
   ],
   "source": [
    "k_res = hydrologic_inverse_analysis(kl,kh,n,h)"
   ]
  },
  {
   "cell_type": "code",
   "execution_count": 64,
   "metadata": {},
   "outputs": [
    {
     "name": "stdout",
     "output_type": "stream",
     "text": [
      "Error Rate = 0.0%\n"
     ]
    }
   ],
   "source": [
    "error_rate = evaluate_performance(k_true, k_res)"
   ]
  },
  {
   "cell_type": "markdown",
   "metadata": {},
   "source": [
    "## Larger 1D Problem"
   ]
  },
  {
   "cell_type": "code",
   "execution_count": 78,
   "metadata": {},
   "outputs": [],
   "source": [
    "def generate_random_1D_data(kl, kh, n):\n",
    "    k_true = np.random.randint(2, size=n-1)*(kh-kl) +kl\n",
    "    \n",
    "    h1=np.random.rand()\n",
    "    h2=np.random.rand()\n",
    "    h=np.array([h1,h2])\n",
    "    for i in range(1,n-1):\n",
    "        h_next = h[i]+k_true[i-1]/k_true[i]*(h[i]-h[i-1])\n",
    "        h=np.append(h, np.array([h_next]))\n",
    "    return k_true, h"
   ]
  },
  {
   "cell_type": "code",
   "execution_count": 79,
   "metadata": {},
   "outputs": [],
   "source": [
    "kl = 1\n",
    "kh = 2\n",
    "n = 15"
   ]
  },
  {
   "cell_type": "code",
   "execution_count": 82,
   "metadata": {},
   "outputs": [
    {
     "name": "stdout",
     "output_type": "stream",
     "text": [
      "k = [1 1 1 1 2 2 2 2 1 1 2 2 2 1]\n",
      "h = [0.21269449 0.64007633 1.06745816 1.49484    1.92222184 2.13591276\n",
      " 2.34960368 2.56329459 2.77698551 3.20436735 3.63174919 3.84544011\n",
      " 4.05913102 4.27282194 4.70020378]\n"
     ]
    }
   ],
   "source": [
    "k_true, h = generate_random_1D_data(kl, kh, n)\n",
    "print(\"k =\", k_true)\n",
    "print(\"h =\", h)"
   ]
  },
  {
   "cell_type": "code",
   "execution_count": 83,
   "metadata": {
    "scrolled": true
   },
   "outputs": [
    {
     "name": "stdout",
     "output_type": "stream",
     "text": [
      "Function in Sympy: -0.36531046949032*q1*q2 + 0.18265523474516*q1 - 0.18265523474516*q10*q11 - 0.36531046949032*q10*q9 + 0.547965704235479*q10 - 0.0913276173725797*q11*q12 + 1.94289029309402e-16*q11 - 0.0913276173725795*q12*q13 + 0.0913276173725793*q12 - 0.182655234745159*q13*q14 + 0.365310469490318*q14 - 0.36531046949032*q2*q3 + 0.365310469490321*q2 - 0.36531046949032*q3*q4 + 0.36531046949032*q3 - 0.18265523474516*q4*q5 + 0.547965704235481*q4 - 0.0913276173725799*q5*q6 - 1.80411241501588e-16*q5 - 0.0913276173725799*q6*q7 + 0.0913276173725799*q6 - 0.0913276173725799*q7*q8 + 0.0913276173725799*q7 - 0.18265523474516*q8*q9 + 0.547965704235479*q9 + 0.18265523474516\n",
      "\\ This file has been generated by DOcplex\n",
      "\\ ENCODING=ISO-8859-1\n",
      "\\Problem name: CPLEX\n",
      "\n",
      "Minimize\n",
      " obj: 0.182655234745 q1 + 0.365310469490 q2 + 0.365310469490 q3\n",
      "      + 0.547965704235 q4 - 0.000000000000 q5 + 0.091327617373 q6\n",
      "      + 0.091327617373 q7 + 0.547965704235 q9 + 0.547965704235 q10\n",
      "      + 0.000000000000 q11 + 0.091327617373 q12 + 0.365310469490 q14 + [\n",
      "      - 0.730620938981 q1*q2 - 0.730620938981 q2*q3 - 0.730620938981 q3*q4\n",
      "      - 0.365310469490 q4*q5 - 0.182655234745 q5*q6 - 0.182655234745 q6*q7\n",
      "      - 0.182655234745 q7*q8 - 0.365310469490 q8*q9 - 0.730620938981 q9*q10\n",
      "      - 0.365310469490 q10*q11 - 0.182655234745 q11*q12 - 0.182655234745 q12*q13\n",
      "      - 0.365310469490 q13*q14 ]/2 + 0.182655234745\n",
      "Subject To\n",
      "\n",
      "Bounds\n",
      " 0 <= q1 <= 1\n",
      " 0 <= q2 <= 1\n",
      " 0 <= q3 <= 1\n",
      " 0 <= q4 <= 1\n",
      " 0 <= q5 <= 1\n",
      " 0 <= q6 <= 1\n",
      " 0 <= q7 <= 1\n",
      " 0 <= q8 <= 1\n",
      " 0 <= q9 <= 1\n",
      " 0 <= q10 <= 1\n",
      " 0 <= q11 <= 1\n",
      " 0 <= q12 <= 1\n",
      " 0 <= q13 <= 1\n",
      " 0 <= q14 <= 1\n",
      "\n",
      "Binaries\n",
      " q1 q2 q3 q4 q5 q6 q7 q8 q9 q10 q11 q12 q13 q14\n",
      "End\n",
      "\n",
      "\n",
      "run time: 0.8189342021942139\n",
      "optimal function value: 5.551115123125783e-17\n",
      "optimal value: [0. 0. 0. 0. 1. 1. 1. 1. 0. 0. 1. 1. 1. 0.]\n",
      "status: SUCCESS\n",
      "k_res:  [1, 1, 1, 1, 2, 2, 2, 2, 1, 1, 2, 2, 2, 1]\n"
     ]
    }
   ],
   "source": [
    "k_res = hydrologic_inverse_analysis(kl,kh,n,h)"
   ]
  },
  {
   "cell_type": "code",
   "execution_count": 84,
   "metadata": {},
   "outputs": [
    {
     "name": "stdout",
     "output_type": "stream",
     "text": [
      "Error Rate = 0.0%\n"
     ]
    }
   ],
   "source": [
    "error_rate = evaluate_performance(k_true, k_res)"
   ]
  },
  {
   "cell_type": "markdown",
   "metadata": {},
   "source": [
    "## 1D Problem Performance Analysis"
   ]
  },
  {
   "cell_type": "code",
   "execution_count": 70,
   "metadata": {},
   "outputs": [
    {
     "ename": "GeneratorsNeeded",
     "evalue": "can't initialize from 'dict' without generators",
     "output_type": "error",
     "traceback": [
      "\u001b[0;31m---------------------------------------------------------------------------\u001b[0m",
      "\u001b[0;31mGeneratorsNeeded\u001b[0m                          Traceback (most recent call last)",
      "\u001b[0;32m<ipython-input-70-17d61e2abc59>\u001b[0m in \u001b[0;36m<module>\u001b[0;34m\u001b[0m\n\u001b[1;32m     11\u001b[0m         \u001b[0mh_next\u001b[0m \u001b[0;34m=\u001b[0m \u001b[0mh\u001b[0m\u001b[0;34m[\u001b[0m\u001b[0mi\u001b[0m\u001b[0;34m]\u001b[0m\u001b[0;34m+\u001b[0m\u001b[0mk_true\u001b[0m\u001b[0;34m[\u001b[0m\u001b[0mi\u001b[0m\u001b[0;34m-\u001b[0m\u001b[0;36m1\u001b[0m\u001b[0;34m]\u001b[0m\u001b[0;34m/\u001b[0m\u001b[0mk_true\u001b[0m\u001b[0;34m[\u001b[0m\u001b[0mi\u001b[0m\u001b[0;34m]\u001b[0m\u001b[0;34m*\u001b[0m\u001b[0;34m(\u001b[0m\u001b[0mh\u001b[0m\u001b[0;34m[\u001b[0m\u001b[0mi\u001b[0m\u001b[0;34m]\u001b[0m\u001b[0;34m-\u001b[0m\u001b[0mh\u001b[0m\u001b[0;34m[\u001b[0m\u001b[0mi\u001b[0m\u001b[0;34m-\u001b[0m\u001b[0;36m1\u001b[0m\u001b[0;34m]\u001b[0m\u001b[0;34m)\u001b[0m\u001b[0;34m\u001b[0m\u001b[0;34m\u001b[0m\u001b[0m\n\u001b[1;32m     12\u001b[0m         \u001b[0mh\u001b[0m\u001b[0;34m=\u001b[0m\u001b[0mnp\u001b[0m\u001b[0;34m.\u001b[0m\u001b[0mappend\u001b[0m\u001b[0;34m(\u001b[0m\u001b[0mh\u001b[0m\u001b[0;34m,\u001b[0m \u001b[0mnp\u001b[0m\u001b[0;34m.\u001b[0m\u001b[0marray\u001b[0m\u001b[0;34m(\u001b[0m\u001b[0;34m[\u001b[0m\u001b[0mh_next\u001b[0m\u001b[0;34m]\u001b[0m\u001b[0;34m)\u001b[0m\u001b[0;34m)\u001b[0m\u001b[0;34m\u001b[0m\u001b[0;34m\u001b[0m\u001b[0m\n\u001b[0;32m---> 13\u001b[0;31m     \u001b[0mk_res\u001b[0m \u001b[0;34m=\u001b[0m \u001b[0mhydrologic_inverse_analysis\u001b[0m\u001b[0;34m(\u001b[0m\u001b[0mkl\u001b[0m\u001b[0;34m,\u001b[0m\u001b[0mkh\u001b[0m\u001b[0;34m,\u001b[0m\u001b[0mn\u001b[0m\u001b[0;34m,\u001b[0m\u001b[0mh\u001b[0m\u001b[0;34m)\u001b[0m\u001b[0;34m\u001b[0m\u001b[0;34m\u001b[0m\u001b[0m\n\u001b[0m\u001b[1;32m     14\u001b[0m     \u001b[0merror_rate\u001b[0m\u001b[0;34m.\u001b[0m\u001b[0mappend\u001b[0m\u001b[0;34m(\u001b[0m\u001b[0mevaluate_performance\u001b[0m\u001b[0;34m(\u001b[0m\u001b[0mk_true\u001b[0m\u001b[0;34m,\u001b[0m \u001b[0mk_res\u001b[0m\u001b[0;34m)\u001b[0m\u001b[0;34m)\u001b[0m\u001b[0;34m\u001b[0m\u001b[0;34m\u001b[0m\u001b[0m\n",
      "\u001b[0;32m<ipython-input-59-58df272d973e>\u001b[0m in \u001b[0;36mhydrologic_inverse_analysis\u001b[0;34m(kl, kh, n, h)\u001b[0m\n\u001b[1;32m      1\u001b[0m \u001b[0;32mdef\u001b[0m \u001b[0mhydrologic_inverse_analysis\u001b[0m\u001b[0;34m(\u001b[0m\u001b[0mkl\u001b[0m\u001b[0;34m,\u001b[0m\u001b[0mkh\u001b[0m\u001b[0;34m,\u001b[0m\u001b[0mn\u001b[0m\u001b[0;34m,\u001b[0m\u001b[0mh\u001b[0m\u001b[0;34m)\u001b[0m\u001b[0;34m:\u001b[0m\u001b[0;34m\u001b[0m\u001b[0;34m\u001b[0m\u001b[0m\n\u001b[0;32m----> 2\u001b[0;31m     \u001b[0mfunction\u001b[0m\u001b[0;34m,\u001b[0m \u001b[0mcoeffs\u001b[0m \u001b[0;34m=\u001b[0m \u001b[0mconstruct_function\u001b[0m\u001b[0;34m(\u001b[0m\u001b[0mkl\u001b[0m\u001b[0;34m,\u001b[0m\u001b[0mkh\u001b[0m\u001b[0;34m,\u001b[0m\u001b[0mn\u001b[0m\u001b[0;34m,\u001b[0m\u001b[0mh\u001b[0m\u001b[0;34m)\u001b[0m\u001b[0;34m\u001b[0m\u001b[0;34m\u001b[0m\u001b[0m\n\u001b[0m\u001b[1;32m      3\u001b[0m     \u001b[0mprint\u001b[0m\u001b[0;34m(\u001b[0m\u001b[0;34m'Function in Sympy:'\u001b[0m\u001b[0;34m,\u001b[0m \u001b[0mfunction\u001b[0m\u001b[0;34m)\u001b[0m\u001b[0;34m\u001b[0m\u001b[0;34m\u001b[0m\u001b[0m\n\u001b[1;32m      4\u001b[0m     \u001b[0mqp\u001b[0m \u001b[0;34m=\u001b[0m \u001b[0mgenerate_QP\u001b[0m\u001b[0;34m(\u001b[0m\u001b[0mcoeffs\u001b[0m\u001b[0;34m,\u001b[0m\u001b[0mn\u001b[0m\u001b[0;34m)\u001b[0m\u001b[0;34m\u001b[0m\u001b[0;34m\u001b[0m\u001b[0m\n\u001b[1;32m      5\u001b[0m     \u001b[0mqins\u001b[0m \u001b[0;34m=\u001b[0m \u001b[0mQuantumInstance\u001b[0m\u001b[0;34m(\u001b[0m\u001b[0mbackend\u001b[0m\u001b[0;34m=\u001b[0m\u001b[0mAer\u001b[0m\u001b[0;34m.\u001b[0m\u001b[0mget_backend\u001b[0m\u001b[0;34m(\u001b[0m\u001b[0;34m'qasm_simulator'\u001b[0m\u001b[0;34m)\u001b[0m\u001b[0;34m,\u001b[0m \u001b[0mshots\u001b[0m\u001b[0;34m=\u001b[0m\u001b[0;36m1000\u001b[0m\u001b[0;34m,\u001b[0m \u001b[0mseed_simulator\u001b[0m\u001b[0;34m=\u001b[0m\u001b[0;36m123\u001b[0m\u001b[0;34m)\u001b[0m\u001b[0;34m\u001b[0m\u001b[0;34m\u001b[0m\u001b[0m\n",
      "\u001b[0;32m<ipython-input-57-8057fd8e8fdb>\u001b[0m in \u001b[0;36mconstruct_function\u001b[0;34m(kl, kh, n, h)\u001b[0m\n\u001b[1;32m     19\u001b[0m     \u001b[0;32mfor\u001b[0m \u001b[0mi\u001b[0m \u001b[0;32min\u001b[0m \u001b[0mrange\u001b[0m\u001b[0;34m(\u001b[0m\u001b[0;36m1\u001b[0m\u001b[0;34m,\u001b[0m\u001b[0mn\u001b[0m\u001b[0;34m)\u001b[0m\u001b[0;34m:\u001b[0m\u001b[0;34m\u001b[0m\u001b[0;34m\u001b[0m\u001b[0m\n\u001b[1;32m     20\u001b[0m         \u001b[0mfunction\u001b[0m \u001b[0;34m=\u001b[0m \u001b[0mfunction\u001b[0m\u001b[0;34m.\u001b[0m\u001b[0msubs\u001b[0m\u001b[0;34m(\u001b[0m\u001b[0msp\u001b[0m\u001b[0;34m.\u001b[0m\u001b[0msymbols\u001b[0m\u001b[0;34m(\u001b[0m\u001b[0;34m'q'\u001b[0m\u001b[0;34m+\u001b[0m\u001b[0mstr\u001b[0m\u001b[0;34m(\u001b[0m\u001b[0mi\u001b[0m\u001b[0;34m)\u001b[0m\u001b[0;34m)\u001b[0m\u001b[0;34m**\u001b[0m\u001b[0;36m2\u001b[0m\u001b[0;34m,\u001b[0m \u001b[0;34m(\u001b[0m\u001b[0msp\u001b[0m\u001b[0;34m.\u001b[0m\u001b[0msymbols\u001b[0m\u001b[0;34m(\u001b[0m\u001b[0;34m'q'\u001b[0m\u001b[0;34m+\u001b[0m\u001b[0mstr\u001b[0m\u001b[0;34m(\u001b[0m\u001b[0mi\u001b[0m\u001b[0;34m)\u001b[0m\u001b[0;34m)\u001b[0m\u001b[0;34m)\u001b[0m\u001b[0;34m)\u001b[0m\u001b[0;34m\u001b[0m\u001b[0;34m\u001b[0m\u001b[0m\n\u001b[0;32m---> 21\u001b[0;31m         \u001b[0mcoeffs\u001b[0m \u001b[0;34m=\u001b[0m \u001b[0msp\u001b[0m\u001b[0;34m.\u001b[0m\u001b[0mPoly\u001b[0m\u001b[0;34m(\u001b[0m\u001b[0mfunction\u001b[0m\u001b[0;34m)\u001b[0m\u001b[0;34m.\u001b[0m\u001b[0mas_dict\u001b[0m\u001b[0;34m(\u001b[0m\u001b[0;34m)\u001b[0m\u001b[0;34m\u001b[0m\u001b[0;34m\u001b[0m\u001b[0m\n\u001b[0m\u001b[1;32m     22\u001b[0m \u001b[0;34m\u001b[0m\u001b[0m\n\u001b[1;32m     23\u001b[0m     \u001b[0;31m# function in sympy form and coefficients of all terms in an easily readble dictionary form returned\u001b[0m\u001b[0;34m\u001b[0m\u001b[0;34m\u001b[0m\u001b[0;34m\u001b[0m\u001b[0m\n",
      "\u001b[0;32m~/opt/anaconda3/lib/python3.8/site-packages/sympy/polys/polytools.py\u001b[0m in \u001b[0;36m__new__\u001b[0;34m(cls, rep, *gens, **args)\u001b[0m\n\u001b[1;32m    157\u001b[0m                 \u001b[0;32mreturn\u001b[0m \u001b[0mcls\u001b[0m\u001b[0;34m.\u001b[0m\u001b[0m_from_poly\u001b[0m\u001b[0;34m(\u001b[0m\u001b[0mrep\u001b[0m\u001b[0;34m,\u001b[0m \u001b[0mopt\u001b[0m\u001b[0;34m)\u001b[0m\u001b[0;34m\u001b[0m\u001b[0;34m\u001b[0m\u001b[0m\n\u001b[1;32m    158\u001b[0m             \u001b[0;32melse\u001b[0m\u001b[0;34m:\u001b[0m\u001b[0;34m\u001b[0m\u001b[0;34m\u001b[0m\u001b[0m\n\u001b[0;32m--> 159\u001b[0;31m                 \u001b[0;32mreturn\u001b[0m \u001b[0mcls\u001b[0m\u001b[0;34m.\u001b[0m\u001b[0m_from_expr\u001b[0m\u001b[0;34m(\u001b[0m\u001b[0mrep\u001b[0m\u001b[0;34m,\u001b[0m \u001b[0mopt\u001b[0m\u001b[0;34m)\u001b[0m\u001b[0;34m\u001b[0m\u001b[0;34m\u001b[0m\u001b[0m\n\u001b[0m\u001b[1;32m    160\u001b[0m \u001b[0;34m\u001b[0m\u001b[0m\n\u001b[1;32m    161\u001b[0m     \u001b[0;31m# Poly does not pass its args to Basic.__new__ to be stored in _args so we\u001b[0m\u001b[0;34m\u001b[0m\u001b[0;34m\u001b[0m\u001b[0;34m\u001b[0m\u001b[0m\n",
      "\u001b[0;32m~/opt/anaconda3/lib/python3.8/site-packages/sympy/polys/polytools.py\u001b[0m in \u001b[0;36m_from_expr\u001b[0;34m(cls, rep, opt)\u001b[0m\n\u001b[1;32m    287\u001b[0m         \u001b[0;34m\"\"\"Construct a polynomial from an expression. \"\"\"\u001b[0m\u001b[0;34m\u001b[0m\u001b[0;34m\u001b[0m\u001b[0m\n\u001b[1;32m    288\u001b[0m         \u001b[0mrep\u001b[0m\u001b[0;34m,\u001b[0m \u001b[0mopt\u001b[0m \u001b[0;34m=\u001b[0m \u001b[0m_dict_from_expr\u001b[0m\u001b[0;34m(\u001b[0m\u001b[0mrep\u001b[0m\u001b[0;34m,\u001b[0m \u001b[0mopt\u001b[0m\u001b[0;34m)\u001b[0m\u001b[0;34m\u001b[0m\u001b[0;34m\u001b[0m\u001b[0m\n\u001b[0;32m--> 289\u001b[0;31m         \u001b[0;32mreturn\u001b[0m \u001b[0mcls\u001b[0m\u001b[0;34m.\u001b[0m\u001b[0m_from_dict\u001b[0m\u001b[0;34m(\u001b[0m\u001b[0mrep\u001b[0m\u001b[0;34m,\u001b[0m \u001b[0mopt\u001b[0m\u001b[0;34m)\u001b[0m\u001b[0;34m\u001b[0m\u001b[0;34m\u001b[0m\u001b[0m\n\u001b[0m\u001b[1;32m    290\u001b[0m \u001b[0;34m\u001b[0m\u001b[0m\n\u001b[1;32m    291\u001b[0m     \u001b[0;32mdef\u001b[0m \u001b[0m__hash__\u001b[0m\u001b[0;34m(\u001b[0m\u001b[0mself\u001b[0m\u001b[0;34m)\u001b[0m\u001b[0;34m:\u001b[0m\u001b[0;34m\u001b[0m\u001b[0;34m\u001b[0m\u001b[0m\n",
      "\u001b[0;32m~/opt/anaconda3/lib/python3.8/site-packages/sympy/polys/polytools.py\u001b[0m in \u001b[0;36m_from_dict\u001b[0;34m(cls, rep, opt)\u001b[0m\n\u001b[1;32m    224\u001b[0m \u001b[0;34m\u001b[0m\u001b[0m\n\u001b[1;32m    225\u001b[0m         \u001b[0;32mif\u001b[0m \u001b[0;32mnot\u001b[0m \u001b[0mgens\u001b[0m\u001b[0;34m:\u001b[0m\u001b[0;34m\u001b[0m\u001b[0;34m\u001b[0m\u001b[0m\n\u001b[0;32m--> 226\u001b[0;31m             raise GeneratorsNeeded(\n\u001b[0m\u001b[1;32m    227\u001b[0m                 \"can't initialize from 'dict' without generators\")\n\u001b[1;32m    228\u001b[0m \u001b[0;34m\u001b[0m\u001b[0m\n",
      "\u001b[0;31mGeneratorsNeeded\u001b[0m: can't initialize from 'dict' without generators"
     ]
    }
   ],
   "source": [
    "num_heads = np.arange(2,15,14)\n",
    "error_rate = []\n",
    "for n in range(2,15):\n",
    "    kl = 1\n",
    "    kh = 2\n",
    "    k_true = np.random.randint(2, size=n-1)*(kh-kl) +kl\n",
    "    h1=np.random.rand()\n",
    "    h2=np.random.rand()\n",
    "    h=np.array([h1,h2])\n",
    "    for i in range(1,n-1):\n",
    "        h_next = h[i]+k_true[i-1]/k_true[i]*(h[i]-h[i-1])\n",
    "        h=np.append(h, np.array([h_next]))\n",
    "    k_res = hydrologic_inverse_analysis(kl,kh,n,h)\n",
    "    error_rate.append(evaluate_performance(k_true, k_res))"
   ]
  },
  {
   "cell_type": "code",
   "execution_count": 49,
   "metadata": {},
   "outputs": [
    {
     "name": "stdout",
     "output_type": "stream",
     "text": [
      "Error Rate = 0.0%\n"
     ]
    }
   ],
   "source": []
  }
 ],
 "metadata": {
  "kernelspec": {
   "display_name": "Python 3",
   "language": "python",
   "name": "python3"
  },
  "language_info": {
   "codemirror_mode": {
    "name": "ipython",
    "version": 3
   },
   "file_extension": ".py",
   "mimetype": "text/x-python",
   "name": "python",
   "nbconvert_exporter": "python",
   "pygments_lexer": "ipython3",
   "version": "3.8.5"
  }
 },
 "nbformat": 4,
 "nbformat_minor": 4
}
