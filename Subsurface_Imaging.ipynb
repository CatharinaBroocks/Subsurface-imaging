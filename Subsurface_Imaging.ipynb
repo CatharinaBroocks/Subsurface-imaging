{
 "cells": [
  {
   "cell_type": "code",
   "execution_count": 77,
   "metadata": {},
   "outputs": [],
   "source": [
    "# Import math functions (numpy) and sympy for creating formulars\n",
    "from IPython.display import clear_output\n",
    "import numpy as np\n",
    "import sympy as sp\n",
    "from fractions import Fraction\n",
    "import matplotlib.pyplot as plt"
   ]
  },
  {
   "cell_type": "code",
   "execution_count": 78,
   "metadata": {},
   "outputs": [],
   "source": [
    "# Import qiskit framework\n",
    "from qiskit import IBMQ\n",
    "from qiskit_optimization import QuadraticProgram\n",
    "from qiskit import Aer\n",
    "from qiskit.utils import QuantumInstance\n",
    "from qiskit_optimization.algorithms import MinimumEigenOptimizer\n",
    "from qiskit.algorithms import QAOA"
   ]
  },
  {
   "cell_type": "code",
   "execution_count": 79,
   "metadata": {},
   "outputs": [],
   "source": [
    "#IBMQ.load_account()\n",
    "#provider = IBMQ.get_provider(hub='ibm-q')"
   ]
  },
  {
   "cell_type": "code",
   "execution_count": 80,
   "metadata": {},
   "outputs": [],
   "source": [
    "clear_output()"
   ]
  },
  {
   "cell_type": "markdown",
   "metadata": {},
   "source": [
    "## Define Functions"
   ]
  },
  {
   "cell_type": "code",
   "execution_count": 81,
   "metadata": {},
   "outputs": [],
   "source": [
    "def construct_function(kl, kh, n, h):\n",
    "    \"\"\"Constructs the mathematical function to be optimized\n",
    "\n",
    "    Args:\n",
    "        kl (double): low k\n",
    "        kh (double): high k\n",
    "        n (int): number of heads\n",
    "        h (list): values for each of the heads\n",
    "\n",
    "    Returns:\n",
    "        sympyfunction, dict: mathematical sympy function with coefficients\n",
    "    \"\"\"\n",
    "    function = 0\n",
    "    sp.init_printing(use_unicode=True)\n",
    "    \n",
    "    # construct variables for each permeability\n",
    "    for i in range(1,n):\n",
    "        globals()['q%s' % i] = sp.symbols('q'+str(i))\n",
    "        globals()['h%s' % i] = sp.symbols('q'+str(i))\n",
    "        \n",
    "    # for each permeability, add its contribution to the total cost function\n",
    "    for i in range(2,n):\n",
    "        term = ((kl+globals()['q%s' % (i-1)]*(kh-kl))*(h[i-2]-h[i-1])+(kl+globals()['q%s' % (i)]*(kh-kl))*(h[i]-h[i-1]))**2\n",
    "        function = function + term\n",
    "        \n",
    "    # expand and simplify the cost function\n",
    "    function = sp.expand(function)\n",
    "    \n",
    "    # convert all square terms into linear terms as qi^2 = qi = 0 or 1 for all i and simplify the cost function\n",
    "    for i in range(1,n):\n",
    "        function = function.subs(sp.symbols('q'+str(i))**2, (sp.symbols('q'+str(i))))\n",
    "        coeffs = sp.Poly(function).as_dict()\n",
    "        \n",
    "    # function in sympy form and coefficients of all terms in an easily readble dictionary form returned\n",
    "    return function, coeffs"
   ]
  },
  {
   "cell_type": "code",
   "execution_count": 82,
   "metadata": {},
   "outputs": [],
   "source": [
    "def generate_QP(coeffs, n, verbose=False):\n",
    "    \"\"\"Generates the Quadratic Program to be optimized\n",
    "\n",
    "    Args:\n",
    "        coeffs (dict): Contains the coefficients from the sympy funciton\n",
    "        n (int): Number of heads\n",
    "\n",
    "    Returns:\n",
    "        QuadraticProgram: The quadratic program to optimize\n",
    "    \"\"\"\n",
    "    qp = QuadraticProgram()\n",
    "    for i in range(1,n):\n",
    "        qp.binary_var('q'+str(i))\n",
    "    constant = 0\n",
    "    linear = {}\n",
    "    quadratic = {}\n",
    "    for key,value in coeffs.items():\n",
    "        if sum(key) == 0:\n",
    "            constant = float(value)\n",
    "        elif sum(key) == 1:\n",
    "            term = 'q'+str(np.argmax(key)+1)\n",
    "            linear[term] = float(value)\n",
    "        else:\n",
    "            indices = [i[0] for i in np.argwhere(np.array(key)>0)]\n",
    "            term = ('q'+str(indices[0]+1),'q'+str(indices[1]+1))\n",
    "            quadratic[term] = float(value)\n",
    "    qp.minimize(linear=linear, quadratic=quadratic, constant=constant)\n",
    "    if verbose:\n",
    "        print(qp.export_as_lp_string())\n",
    "    return qp"
   ]
  },
  {
   "cell_type": "code",
   "execution_count": 83,
   "metadata": {},
   "outputs": [],
   "source": [
    "def hydrologic_inverse_analysis(kl,kh,n,h, verbose=False):\n",
    "    \"\"\"Constructs and solves the mathematical function\n",
    "\n",
    "    Args:\n",
    "        kl (double): low k\n",
    "        kh (double): high k\n",
    "        n (int): number of heads\n",
    "        h (list): values for each of the heads\n",
    "        verbose (Bool): Output information or not\n",
    "\n",
    "    Returns:\n",
    "        list: list with the estimated k values for the heads\n",
    "    \"\"\"\n",
    "    # Create the mathematical function\n",
    "    function, coeffs = construct_function(kl,kh,n,h)\n",
    "    print('Function in Sympy:', function)\n",
    "    # Generate the quadratic problem and solve it with Qiskit\n",
    "    qp = generate_QP(coeffs,n,verbose)\n",
    "    qins = QuantumInstance(backend=Aer.get_backend('qasm_simulator'), shots=1000, seed_simulator=123)\n",
    "    meo = MinimumEigenOptimizer(min_eigen_solver=QAOA(reps=1, quantum_instance=qins))\n",
    "    result = meo.solve(qp)\n",
    "    if verbose:\n",
    "        print('\\nrun time:', result.min_eigen_solver_result.optimizer_time)\n",
    "        print(result)\n",
    "    k = [int(i) for i in list(kl+result.x*(kh-kl))]\n",
    "    if verbose:\n",
    "        print('k_res: ', k)\n",
    "    return k"
   ]
  },
  {
   "cell_type": "code",
   "execution_count": 84,
   "metadata": {},
   "outputs": [],
   "source": [
    "def evaluate_performance(k_true,k_res, verbose=False):\n",
    "    \"\"\"Evaluate the performance of the estimation by calculating missmatches and comparing them to the total number of values\n",
    "\n",
    "    Args:\n",
    "        k_true (list): True k values\n",
    "        k_res (list): Estimated k values\n",
    "        verbose (Bool): Output information or not\n",
    "\n",
    "    Returns:\n",
    "        double: Error rate\n",
    "    \"\"\"\n",
    "    total_number = len(k_true)\n",
    "    false_count = 0\n",
    "    for i in range(len(k_true)):\n",
    "        if k_true[i] != k_res[i]:\n",
    "            false_count += 1\n",
    "    error_rate = false_count / total_number\n",
    "    if verbose:\n",
    "        print('Error Rate = '+ str(error_rate*100)+'%')\n",
    "    return error_rate"
   ]
  },
  {
   "cell_type": "markdown",
   "metadata": {},
   "source": [
    "## Small 1D Problem"
   ]
  },
  {
   "cell_type": "markdown",
   "metadata": {},
   "source": [
    "Given: 3 heads with $h_1=1, h_2=\\frac{1}{3}, h_3=0$ <br>\n",
    "Assumption: $k_l = 1, k_h = 2$ <br>\n",
    "Task: minimize  $f(q_1, q_2) = \\frac{8}{9}q_1 − \\frac{1}{9}q_2 − \\frac{4}{9}q_1q_2 + \\frac{1}{9}$"
   ]
  },
  {
   "cell_type": "code",
   "execution_count": 85,
   "metadata": {},
   "outputs": [],
   "source": [
    "k_true = [1,2]"
   ]
  },
  {
   "cell_type": "code",
   "execution_count": 86,
   "metadata": {},
   "outputs": [],
   "source": [
    "kl = 1\n",
    "kh = 2\n",
    "n = 3\n",
    "h = [1,1/3,0]"
   ]
  },
  {
   "cell_type": "code",
   "execution_count": 87,
   "metadata": {},
   "outputs": [
    {
     "name": "stdout",
     "output_type": "stream",
     "text": [
      "Function in Sympy: -0.444444444444444*q1*q2 + 0.888888888888889*q1 - 0.111111111111111*q2 + 0.111111111111111\n",
      "\\ This file has been generated by DOcplex\n",
      "\\ ENCODING=ISO-8859-1\n",
      "\\Problem name: CPLEX\n",
      "\n",
      "Minimize\n",
      " obj: 0.888888888889 q1 - 0.111111111111 q2 + [ - 0.888888888889 q1*q2 ]/2 +\n",
      "      0.111111111111\n",
      "Subject To\n",
      "\n",
      "Bounds\n",
      " 0 <= q1 <= 1\n",
      " 0 <= q2 <= 1\n",
      "\n",
      "Binaries\n",
      " q1 q2\n",
      "End\n",
      "\n",
      "\n",
      "run time: 0.08078885078430176\n",
      "optimal function value: 2.7755575615628914e-17\n",
      "optimal value: [0. 1.]\n",
      "status: SUCCESS\n",
      "k_res:  [1, 2]\n"
     ]
    }
   ],
   "source": [
    "k_res = hydrologic_inverse_analysis(kl,kh,n,h,verbose=True)"
   ]
  },
  {
   "cell_type": "code",
   "execution_count": 96,
   "metadata": {},
   "outputs": [
    {
     "name": "stdout",
     "output_type": "stream",
     "text": [
      "Error Rate = 0.0%\n"
     ]
    }
   ],
   "source": [
    "error_rate = evaluate_performance(k_true, k_res, verbose=True)"
   ]
  },
  {
   "cell_type": "markdown",
   "metadata": {},
   "source": [
    "## Larger 1D Problem"
   ]
  },
  {
   "cell_type": "code",
   "execution_count": 89,
   "metadata": {},
   "outputs": [],
   "source": [
    "def generate_random_1D_data(kl, kh, n):\n",
    "    \"\"\"Generate random data for the value of the heads\n",
    "\n",
    "    Args:\n",
    "        kl (double): low k\n",
    "        kh (double): high k\n",
    "        n (int): number of heads\n",
    "\n",
    "    Returns:\n",
    "        list, list: Returns the random true k values and the linked head values\n",
    "    \"\"\"\n",
    "    k_true = np.random.randint(2, size=n-1)*(kh-kl) +kl\n",
    "    \n",
    "    h1=np.random.rand()\n",
    "    h2=np.random.rand()\n",
    "    h=np.array([h1,h2])\n",
    "    for i in range(1,n-1):\n",
    "        h_next = h[i]+k_true[i-1]/k_true[i]*(h[i]-h[i-1])\n",
    "        h=np.append(h, np.array([h_next]))\n",
    "    return k_true, h"
   ]
  },
  {
   "cell_type": "code",
   "execution_count": 90,
   "metadata": {},
   "outputs": [],
   "source": [
    "kl = 1\n",
    "kh = 2\n",
    "n = 15"
   ]
  },
  {
   "cell_type": "code",
   "execution_count": 91,
   "metadata": {},
   "outputs": [
    {
     "name": "stdout",
     "output_type": "stream",
     "text": [
      "k = [2 2 2 1 2 1 2 2 2 1 1 2 1 2]\n",
      "h = [ 0.55232551  0.43663551  0.32094552  0.20525553 -0.02612446 -0.14181445\n",
      " -0.37319444 -0.48888443 -0.60457442 -0.72026441 -0.9516444  -1.18302439\n",
      " -1.29871438 -1.53009436 -1.64578436]\n"
     ]
    }
   ],
   "source": [
    "# Generate a dataset with true ks and the head values\n",
    "k_true, h = generate_random_1D_data(kl, kh, n)\n",
    "print(\"k =\", k_true)\n",
    "print(\"h =\", h)"
   ]
  },
  {
   "cell_type": "code",
   "execution_count": 97,
   "metadata": {
    "scrolled": true
   },
   "outputs": [
    {
     "name": "stdout",
     "output_type": "stream",
     "text": [
      "Function in Sympy: -0.77311929983223*q1*q2 - 0.193279824958057*q1 - 1.54623859966446*q2*q3 + 2.31935789949669*q2 - 1.54623859966446*q3*q4 + 1.54623859966446*q3 + 0.773119299832229*q4 + 0.193279824958057\n",
      "\\ This file has been generated by DOcplex\n",
      "\\ ENCODING=ISO-8859-1\n",
      "\\Problem name: CPLEX\n",
      "\n",
      "Minimize\n",
      " obj: - 0.193279824958 q1 + 2.319357899497 q2 + 1.546238599664 q3\n",
      "      + 0.773119299832 q4 + [ - 1.546238599664 q1*q2 - 3.092477199329 q2*q3\n",
      "      - 3.092477199329 q3*q4 ]/2 + 0.193279824958\n",
      "Subject To\n",
      "\n",
      "Bounds\n",
      " 0 <= q1 <= 1\n",
      " 0 <= q2 <= 1\n",
      " 0 <= q3 <= 1\n",
      " 0 <= q4 <= 1\n",
      "\n",
      "Binaries\n",
      " q1 q2 q3 q4\n",
      "End\n",
      "\n",
      "\n",
      "run time: 0.14964652061462402\n",
      "optimal function value: 0.0\n",
      "optimal value: [1. 0. 0. 0.]\n",
      "status: SUCCESS\n",
      "k_res:  [2, 1, 1, 1]\n"
     ]
    }
   ],
   "source": [
    "# Estimate the k values, given only the head values\n",
    "k_res = hydrologic_inverse_analysis(kl,kh,n,h,verbose=True)"
   ]
  },
  {
   "cell_type": "code",
   "execution_count": 98,
   "metadata": {},
   "outputs": [
    {
     "name": "stdout",
     "output_type": "stream",
     "text": [
      "Error Rate = 0.0%\n"
     ]
    }
   ],
   "source": [
    "# Compare the estimation\n",
    "error_rate = evaluate_performance(k_true, k_res, verbose=True)"
   ]
  },
  {
   "cell_type": "markdown",
   "metadata": {},
   "source": [
    "## 1D Problem Performance Analysis\n",
    "Show how the number of heads influences the estimation error"
   ]
  },
  {
   "cell_type": "code",
   "execution_count": 110,
   "metadata": {},
   "outputs": [
    {
     "name": "stdout",
     "output_type": "stream",
     "text": [
      "Function in Sympy: -0.0457950659831213*q1*q2 + 0.0228975329915607*q1 + 0.0228975329915607*q2\n",
      "Function in Sympy: -0.203120167585229*q1*q2 + 0.406240335170457*q1 - 0.203120167585229*q2*q3 - 0.101560083792614*q2 + 0.406240335170457*q3 + 0.101560083792614\n",
      "Function in Sympy: -1.48245681656382*q1*q2 - 0.370614204140956*q1 - 2.96491363312765*q2*q3 + 4.44737044969147*q2 - 2.96491363312765*q3*q4 + 2.96491363312765*q3 + 1.48245681656382*q4 + 0.370614204140956\n",
      "Function in Sympy: -0.361394683419216*q1*q2 + 0.180697341709608*q1 - 0.361394683419216*q2*q3 + 0.361394683419216*q2 - 0.361394683419216*q3*q4 + 0.361394683419216*q3 - 0.180697341709608*q4*q5 + 0.542092025128824*q4 - 0.045174335427402*q5 + 0.045174335427402\n",
      "Function in Sympy: -0.165515939130143*q1*q2 + 0.0827579695650714*q1 - 0.165515939130143*q2*q3 + 0.165515939130143*q2 - 0.0827579695650714*q3*q4 + 0.248273908695214*q3 - 0.0413789847825357*q4*q5 - 0.0413789847825357*q5*q6 + 0.0413789847825357*q5 + 0.0206894923912678*q6 + 0.0206894923912678\n",
      "Function in Sympy: -0.126347150969705*q1*q2 + 0.252694301939411*q1 - 0.126347150969705*q2*q3 - 0.0631735754848527*q2 - 0.126347150969705*q3*q4 + 0.505388603878822*q3 - 0.0631735754848527*q4*q5 + 1.38777878078145e-17*q4 - 0.126347150969705*q5*q6 - 1.38777878078145e-17*q5 - 0.126347150969705*q6*q7 + 0.505388603878821*q6 - 0.0315867877424263*q7 + 0.157933938712132\n",
      "Function in Sympy: -0.112457323404523*q1*q2 + 0.0562286617022614*q1 - 0.224914646809046*q2*q3 - 5.55111512312578e-17*q2 - 0.224914646809046*q3*q4 + 0.899658587236183*q3 - 0.224914646809046*q4*q5 - 0.112457323404523*q4 - 0.449829293618091*q5*q6 + 0.674743940427138*q5 - 0.224914646809045*q6*q7 + 0.674743940427137*q6 - 0.112457323404523*q7*q8 - 9.71445146547012e-17*q7 + 0.0562286617022614*q8 + 0.224914646809046\n",
      "Function in Sympy: -0.00208129633211646*q1*q2 - 0.000520324083029116*q1 - 0.00208129633211646*q2*q3 + 0.00832518532846585*q2 - 0.00104064816605823*q3*q4 - 0.00208129633211646*q4*q5 - 0.00208129633211646*q5*q6 + 0.00832518532846585*q5 - 0.00104064816605823*q6*q7 - 0.00208129633211646*q7*q8 - 0.00208129633211646*q8*q9 + 0.00832518532846585*q8 - 0.000520324083029116*q9 + 0.00312194449817469\n",
      "Function in Sympy: -0.183852011004722*q1*q2 + 0.0919260055023611*q1 - 0.0919260055023611*q10*q9 + 0.183852011004722*q10 - 0.0919260055023611*q2*q3 + 0.275778016507083*q2 - 0.0919260055023611*q3*q4 - 0.0459630027511806*q3 - 0.0919260055023611*q4*q5 + 0.367704022009444*q4 - 0.0919260055023611*q5*q6 - 0.0459630027511806*q5 - 0.0919260055023611*q6*q7 + 0.367704022009444*q6 - 0.0919260055023611*q7*q8 - 0.0459630027511806*q7 - 0.0919260055023611*q8*q9 + 0.367704022009444*q8 - 0.0459630027511806*q9 + 0.183852011004722\n",
      "Function in Sympy: -0.193675435526064*q1*q2 + 0.096837717763032*q1 - 0.38735087105213*q10*q11 - 0.38735087105213*q10*q9 - 0.193675435526065*q10 + 0.774701742104259*q11 - 0.387350871052129*q2*q3 + 5.55111512312578e-17*q2 - 0.774701742104257*q3*q4 + 1.16205261315639*q3 - 0.774701742104257*q4*q5 + 0.774701742104258*q4 - 0.387350871052128*q5*q6 + 1.16205261315639*q5 - 0.387350871052128*q6*q7 - 0.193675435526064*q6 - 0.774701742104257*q7*q8 + 1.16205261315638*q7 - 0.774701742104259*q8*q9 + 0.774701742104258*q8 + 1.16205261315639*q9 + 0.484188588815161\n",
      "Function in Sympy: -1.12249477584586*q1*q2 - 0.280623693961464*q1 - 1.12249477584586*q10*q11 - 1.12249477584586*q10*q9 - 0.561247387922929*q10 - 2.24498955169172*q11*q12 + 3.36748432753758*q11 + 1.12249477584585*q12 - 1.12249477584586*q2*q3 + 4.48997910338343*q2 - 1.12249477584586*q3*q4 - 0.561247387922928*q3 - 1.12249477584586*q4*q5 + 4.48997910338343*q4 - 1.12249477584586*q5*q6 - 0.561247387922928*q5 - 2.24498955169171*q6*q7 + 3.36748432753757*q6 - 2.24498955169171*q7*q8 + 2.24498955169171*q7 - 2.24498955169171*q8*q9 + 2.24498955169171*q8 + 3.36748432753757*q9 + 1.96436585773025\n",
      "Function in Sympy: -0.0758485709695741*q1*q2 - 0.0189621427423935*q1 - 0.151697141939148*q10*q11 - 0.075848570969574*q10*q9 + 0.227545712908722*q10 - 0.075848570969574*q11*q12 + 0.227545712908722*q11 - 0.037924285484787*q12*q13 + 0.0189621427423935*q13 - 0.0758485709695741*q2*q3 + 0.303394283878297*q2 - 0.0758485709695741*q3*q4 - 0.0379242854847871*q3 - 0.0758485709695741*q4*q5 + 0.303394283878297*q4 - 0.075848570969574*q5*q6 - 0.0379242854847871*q5 - 0.075848570969574*q6*q7 + 0.303394283878296*q6 - 0.075848570969574*q7*q8 - 0.037924285484787*q7 - 0.075848570969574*q8*q9 + 0.303394283878296*q8 - 0.037924285484787*q9 + 0.189621427423935\n",
      "Function in Sympy: -0.638764362359272*q1*q2 + 0.319382181179636*q1 - 1.27752872471854*q10*q11 - 2.55505744943709*q10*q9 + 3.83258617415563*q10 - 1.27752872471854*q11*q12 - 0.638764362359272*q11 - 1.27752872471854*q12*q13 + 5.11011489887418*q12 - 0.638764362359272*q13*q14 + 0.319382181179636*q14 - 1.27752872471854*q2*q3 - 2.55505744943709*q3*q4 + 3.83258617415563*q3 - 2.55505744943709*q4*q5 + 2.55505744943709*q4 - 1.27752872471854*q5*q6 + 3.83258617415563*q5 - 1.27752872471854*q6*q7 - 0.638764362359271*q6 - 1.27752872471854*q7*q8 + 5.11011489887418*q7 - 1.27752872471854*q8*q9 - 0.638764362359272*q8 + 3.83258617415563*q9 + 2.55505744943709\n",
      "Function in Sympy: -0.272842059877859*q1*q2 - 0.0682105149694648*q1 - 0.545684119755719*q10*q11 - 0.272842059877859*q10*q9 + 0.818526179633578*q10 - 0.272842059877859*q11*q12 + 0.818526179633578*q11 - 0.13642102993893*q12*q13 - 0.13642102993893*q13*q14 + 0.136421029938929*q13 - 0.13642102993893*q14*q15 + 0.13642102993893*q14 + 0.0682105149694651*q15 - 0.272842059877859*q2*q3 + 1.09136823951144*q2 - 0.13642102993893*q3*q4 - 0.272842059877859*q4*q5 - 0.545684119755718*q5*q6 + 0.818526179633577*q5 - 0.545684119755719*q6*q7 + 0.545684119755718*q6 - 0.272842059877859*q7*q8 + 0.818526179633578*q7 - 0.13642102993893*q8*q9 + 0.409263089816789\n",
      "Function in Sympy: -0.930719649516518*q1*q2 + 0.465359824758259*q1 - 1.86143929903304*q10*q11 - 1.86143929903304*q10*q9 + 7.44575719613215*q10 - 1.86143929903304*q11*q12 - 0.930719649516519*q11 - 1.86143929903304*q12*q13 + 7.44575719613215*q12 - 0.930719649516519*q13*q14 - 1.86143929903304*q14*q15 - 1.86143929903304*q15*q16 + 7.44575719613215*q15 - 0.465359824758257*q16 - 1.86143929903304*q2*q3 - 2.22044604925031e-16*q2 - 3.72287859806608*q3*q4 + 5.58431789709911*q3 - 3.72287859806608*q4*q5 + 3.72287859806608*q4 - 3.72287859806608*q5*q6 + 3.72287859806608*q5 - 1.86143929903304*q6*q7 + 5.58431789709912*q6 - 1.86143929903304*q7*q8 - 0.930719649516519*q7 - 1.86143929903304*q8*q9 + 7.44575719613215*q8 - 0.930719649516519*q9 + 4.65359824758259\n",
      "Function in Sympy: -0.0120310458522818*q1*q2 + 0.00601552292614089*q1 - 0.00300776146307045*q10*q11 - 0.00601552292614089*q10*q9 - 0.00300776146307045*q11*q12 + 0.00300776146307045*q11 - 0.00601552292614089*q12*q13 - 0.0120310458522818*q13*q14 + 0.0180465687784227*q13 - 0.0120310458522818*q14*q15 + 0.0120310458522818*q14 - 0.00601552292614089*q15*q16 + 0.0180465687784227*q15 - 0.00300776146307045*q16*q17 + 0.00150388073153522*q17 - 0.0120310458522818*q2*q3 + 0.0120310458522818*q2 - 0.00601552292614089*q3*q4 + 0.0180465687784227*q3 - 0.00601552292614089*q4*q5 - 0.00300776146307045*q4 - 0.0120310458522818*q5*q6 + 0.0180465687784227*q5 - 0.0120310458522818*q6*q7 + 0.0120310458522818*q6 - 0.00601552292614089*q7*q8 + 0.0180465687784227*q7 - 0.00601552292614089*q8*q9 - 0.00300776146307045*q8 + 0.0240620917045636*q9 + 0.0105271651207466\n",
      "Function in Sympy: -0.0486786143923061*q1*q2 - 0.0121696535980765*q1 - 0.0486786143923062*q10*q11 - 0.0243393071961531*q10*q9 + 2.42861286636753e-17*q10 - 0.0973572287846124*q11*q12 + 0.146035843176919*q11 - 0.0973572287846124*q12*q13 + 0.0973572287846124*q12 - 0.0973572287846124*q13*q14 + 0.0973572287846124*q13 - 0.0973572287846124*q14*q15 + 0.0973572287846124*q14 - 0.0973572287846124*q15*q16 + 0.0973572287846124*q15 - 0.0486786143923063*q16*q17 + 0.146035843176918*q16 - 0.0243393071961532*q17*q18 + 9.71445146547012e-17*q17 + 0.0121696535980766*q18 - 0.0486786143923061*q2*q3 + 0.194714457569224*q2 - 0.024339307196153*q3*q4 - 0.0486786143923061*q4*q5 - 0.0486786143923061*q5*q6 + 0.194714457569224*q5 - 0.024339307196153*q6*q7 - 0.024339307196153*q7*q8 + 0.024339307196153*q7 - 0.024339307196153*q8*q9 + 0.024339307196153*q8 + 0.024339307196153*q9 + 0.0730179215884591\n",
      "Function in Sympy: -1.17463144349325*q1*q2 - 0.293657860873313*q1 - 1.17463144349325*q10*q11 - 2.3492628869865*q10*q9 + 3.52389433047975*q10 - 1.17463144349325*q11*q12 - 0.587315721746625*q11 - 2.3492628869865*q12*q13 + 3.52389433047975*q12 - 1.17463144349325*q13*q14 + 3.52389433047975*q13 - 1.17463144349325*q14*q15 - 0.587315721746625*q14 - 1.17463144349325*q15*q16 + 4.698525773973*q15 - 0.587315721746625*q16*q17 - 0.587315721746625*q17*q18 + 0.587315721746625*q17 - 0.587315721746623*q18*q19 + 0.587315721746627*q18 + 0.293657860873309*q19 - 2.3492628869865*q2*q3 + 3.52389433047975*q2 - 2.3492628869865*q3*q4 + 2.3492628869865*q3 - 1.17463144349325*q4*q5 + 3.52389433047975*q4 - 1.17463144349325*q5*q6 - 0.587315721746625*q5 - 2.3492628869865*q6*q7 + 3.52389433047975*q6 - 2.3492628869865*q7*q8 + 2.3492628869865*q7 - 2.3492628869865*q8*q9 + 2.3492628869865*q8 + 2.3492628869865*q9 + 2.3492628869865\n"
     ]
    },
    {
     "name": "stderr",
     "output_type": "stream",
     "text": [
      "No handles with labels found to put in legend.\n"
     ]
    },
    {
     "name": "stdout",
     "output_type": "stream",
     "text": [
      "[3, 4, 5, 6, 7, 8, 9, 10, 11, 12, 13, 14, 15, 16, 17, 18, 19, 20]\n",
      "[1.0, 0.0, 0.0, 0.0, 0.0, 0.5714285714285714, 0.0, 0.1111111111111111, 0.0, 0.09090909090909091, 0.08333333333333333, 0.3076923076923077, 0.21428571428571427, 0.06666666666666667, 0.1875, 0.17647058823529413, 0.2777777777777778, 0.2631578947368421]\n"
     ]
    },
    {
     "data": {
      "image/png": "[encoded data removed]",
      "text/plain": [
       "<Figure size 432x288 with 1 Axes>"
      ]
     },
     "metadata": {
      "needs_background": "light"
     },
     "output_type": "display_data"
    }
   ],
   "source": [
    "num_heads = 15\n",
    "heads = []\n",
    "error_rates = []\n",
    "kl = 1\n",
    "kh = 2\n",
    "for n in range(3,num_heads+1):\n",
    "    k_true, h = generate_random_1D_data(kl, kh, n)\n",
    "    k_res = hydrologic_inverse_analysis(kl, kh, n, h)\n",
    "    error_rate = evaluate_performance(k_true, k_res)\n",
    "    heads.append(len(h))\n",
    "    error_rates.append(error_rate)\n",
    "\n",
    "print(heads)\n",
    "print(error_rates)\n",
    "plt.plot(heads, error_rates)\n",
    "plt.xlabel(\"Number of heads\")\n",
    "plt.ylabel(\"Error percentage\")\n",
    "plt.show()"
   ]
  },
  {
   "cell_type": "code",
   "execution_count": null,
   "metadata": {},
   "outputs": [],
   "source": [
    "\"\"\"\n",
    "num_heads = np.arange(2,15,14)\n",
    "error_rate = []\n",
    "for n in range(2,15):\n",
    "    kl = 1\n",
    "    kh = 2\n",
    "    k_true = np.random.randint(2, size=n-1)*(kh-kl) +kl\n",
    "    h1=np.random.rand()\n",
    "    h2=np.random.rand()\n",
    "    h=np.array([h1,h2])\n",
    "    for i in range(1,n-1):\n",
    "        h_next = h[i]+k_true[i-1]/k_true[i]*(h[i]-h[i-1])\n",
    "        h=np.append(h, np.array([h_next]))\n",
    "    k_res = hydrologic_inverse_analysis(kl,kh,n,h)\n",
    "    error_rate.append(evaluate_performance(k_true, k_res))\n",
    "\"\"\""
   ]
  },
  {
   "cell_type": "code",
   "execution_count": null,
   "metadata": {},
   "outputs": [],
   "source": []
  }
 ],
 "metadata": {
  "interpreter": {
   "hash": "f714f05e6ffb5ded92074cd2d65d63a36667b153e7558a65abc88f4ed2fc286e"
  },
  "kernelspec": {
   "display_name": "Python 3.8.7 64-bit",
   "name": "python3"
  },
  "language_info": {
   "codemirror_mode": {
    "name": "ipython",
    "version": 3
   },
   "file_extension": ".py",
   "mimetype": "text/x-python",
   "name": "python",
   "nbconvert_exporter": "python",
   "pygments_lexer": "ipython3",
   "version": "3.8.7"
  }
 },
 "nbformat": 4,
 "nbformat_minor": 4
}
