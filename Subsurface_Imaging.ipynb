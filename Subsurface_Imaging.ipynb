{
 "cells": [
  {
   "cell_type": "code",
   "execution_count": 20,
   "metadata": {},
   "outputs": [],
   "source": [
    "# Import math functions (numpy) and sympy for creating formulars\n",
    "from IPython.display import clear_output\n",
    "import numpy as np\n",
    "import sympy as sp\n",
    "from fractions import Fraction\n",
    "import matplotlib.pyplot as plt"
   ]
  },
  {
   "cell_type": "code",
   "execution_count": 21,
   "metadata": {},
   "outputs": [],
   "source": [
    "# Import qiskit framework\n",
    "from qiskit import IBMQ\n",
    "from qiskit_optimization import QuadraticProgram\n",
    "from qiskit import Aer\n",
    "from qiskit.utils import QuantumInstance\n",
    "from qiskit_optimization.algorithms import MinimumEigenOptimizer\n",
    "from qiskit.algorithms import QAOA"
   ]
  },
  {
   "cell_type": "code",
   "execution_count": 22,
   "metadata": {},
   "outputs": [],
   "source": [
    "#IBMQ.load_account()\n",
    "#provider = IBMQ.get_provider(hub='ibm-q')"
   ]
  },
  {
   "cell_type": "code",
   "execution_count": 23,
   "metadata": {},
   "outputs": [],
   "source": [
    "clear_output()"
   ]
  },
  {
   "cell_type": "markdown",
   "metadata": {},
   "source": [
    "## Define Functions"
   ]
  },
  {
   "cell_type": "code",
   "execution_count": 24,
   "metadata": {},
   "outputs": [],
   "source": [
    "def construct_function(kl, kh, n, h):\n",
    "    \"\"\"Constructs the mathematical function to be optimized\n",
    "\n",
    "    Args:\n",
    "        kl (double): low k\n",
    "        kh (double): high k\n",
    "        n (int): number of heads\n",
    "        h (list): values for each of the heads\n",
    "\n",
    "    Returns:\n",
    "        sympyfunction, dict: mathematical sympy function with coefficients\n",
    "    \"\"\"\n",
    "    function = 0\n",
    "    sp.init_printing(use_unicode=True)\n",
    "    \n",
    "    # construct variables for each permeability\n",
    "    for i in range(1,n):\n",
    "        globals()['q%s' % i] = sp.symbols('q'+str(i))\n",
    "        globals()['h%s' % i] = sp.symbols('q'+str(i))\n",
    "        \n",
    "    # for each permeability, add its contribution to the total cost function\n",
    "    for i in range(2,n):\n",
    "        term = ((kl+globals()['q%s' % (i-1)]*(kh-kl))*(h[i-2]-h[i-1])+(kl+globals()['q%s' % (i)]*(kh-kl))*(h[i]-h[i-1]))**2\n",
    "        function = function + term\n",
    "        \n",
    "    # expand and simplify the cost function\n",
    "    function = sp.expand(function)\n",
    "    \n",
    "    # convert all square terms into linear terms as qi^2 = qi = 0 or 1 for all i and simplify the cost function\n",
    "    for i in range(1,n):\n",
    "        function = function.subs(sp.symbols('q'+str(i))**2, (sp.symbols('q'+str(i))))\n",
    "        coeffs = sp.Poly(function).as_dict()\n",
    "        \n",
    "    # function in sympy form and coefficients of all terms in an easily readble dictionary form returned\n",
    "    return function, coeffs"
   ]
  },
  {
   "cell_type": "code",
   "execution_count": 25,
   "metadata": {},
   "outputs": [],
   "source": [
    "def generate_QP(coeffs, n, verbose=False):\n",
    "    \"\"\"Generates the Quadratic Program to be optimized\n",
    "\n",
    "    Args:\n",
    "        coeffs (dict): Contains the coefficients from the sympy funciton\n",
    "        n (int): Number of heads\n",
    "\n",
    "    Returns:\n",
    "        QuadraticProgram: The quadratic program to optimize\n",
    "    \"\"\"\n",
    "    qp = QuadraticProgram()\n",
    "    for i in range(1,n):\n",
    "        qp.binary_var('q'+str(i))\n",
    "    constant = 0\n",
    "    linear = {}\n",
    "    quadratic = {}\n",
    "    for key,value in coeffs.items():\n",
    "        if sum(key) == 0:\n",
    "            constant = float(value)\n",
    "        elif sum(key) == 1:\n",
    "            term = 'q'+str(np.argmax(key)+1)\n",
    "            linear[term] = float(value)\n",
    "        else:\n",
    "            indices = [i[0] for i in np.argwhere(np.array(key)>0)]\n",
    "            term = ('q'+str(indices[0]+1),'q'+str(indices[1]+1))\n",
    "            quadratic[term] = float(value)\n",
    "    qp.minimize(linear=linear, quadratic=quadratic, constant=constant)\n",
    "    if verbose:\n",
    "        print(qp.export_as_lp_string())\n",
    "    return qp"
   ]
  },
  {
   "cell_type": "code",
   "execution_count": 26,
   "metadata": {},
   "outputs": [],
   "source": [
    "def hydrologic_inverse_analysis(kl,kh,n,h, verbose=False):\n",
    "    \"\"\"Constructs and solves the mathematical function\n",
    "\n",
    "    Args:\n",
    "        kl (double): low k\n",
    "        kh (double): high k\n",
    "        n (int): number of heads\n",
    "        h (list): values for each of the heads\n",
    "        verbose (Bool): Output information or not\n",
    "\n",
    "    Returns:\n",
    "        list: list with the estimated k values for the heads\n",
    "    \"\"\"\n",
    "    # Create the mathematical function\n",
    "    function, coeffs = construct_function(kl,kh,n,h)\n",
    "    if verbose:\n",
    "        print('Function in Sympy:', function)\n",
    "    # Generate the quadratic problem and solve it with Qiskit\n",
    "    qp = generate_QP(coeffs,n,verbose)\n",
    "    qins = QuantumInstance(backend=Aer.get_backend('qasm_simulator'), shots=1000, seed_simulator=123)\n",
    "    meo = MinimumEigenOptimizer(min_eigen_solver=QAOA(reps=1, quantum_instance=qins))\n",
    "    result = meo.solve(qp)\n",
    "    if verbose:\n",
    "        print('\\nrun time:', result.min_eigen_solver_result.optimizer_time)\n",
    "        print(result)\n",
    "    k = [int(i) for i in list(kl+result.x*(kh-kl))]\n",
    "    if verbose:\n",
    "        print('k_res: ', k)\n",
    "    return k"
   ]
  },
  {
   "cell_type": "code",
   "execution_count": 27,
   "metadata": {},
   "outputs": [],
   "source": [
    "def evaluate_performance(k_true,k_res, verbose=False):\n",
    "    \"\"\"Evaluate the performance of the estimation by calculating missmatches and comparing them to the total number of values\n",
    "\n",
    "    Args:\n",
    "        k_true (list): True k values\n",
    "        k_res (list): Estimated k values\n",
    "        verbose (Bool): Output information or not\n",
    "\n",
    "    Returns:\n",
    "        double: Error rate\n",
    "    \"\"\"\n",
    "    total_number = len(k_true)\n",
    "    false_count = 0\n",
    "    for i in range(len(k_true)):\n",
    "        if k_true[i] != k_res[i]:\n",
    "            false_count += 1\n",
    "    error_rate = false_count / total_number\n",
    "    if verbose:\n",
    "        print('Error Rate = '+ str(error_rate*100)+'%')\n",
    "    return error_rate"
   ]
  },
  {
   "cell_type": "markdown",
   "metadata": {},
   "source": [
    "## Small 1D Problem"
   ]
  },
  {
   "cell_type": "markdown",
   "metadata": {},
   "source": [
    "Given: 3 heads with $h_1=1, h_2=\\frac{1}{3}, h_3=0$ <br>\n",
    "Assumption: $k_l = 1, k_h = 2$ <br>\n",
    "Task: minimize  $f(q_1, q_2) = \\frac{8}{9}q_1 − \\frac{1}{9}q_2 − \\frac{4}{9}q_1q_2 + \\frac{1}{9}$"
   ]
  },
  {
   "cell_type": "code",
   "execution_count": 28,
   "metadata": {},
   "outputs": [],
   "source": [
    "k_true = [1,2]"
   ]
  },
  {
   "cell_type": "code",
   "execution_count": 29,
   "metadata": {},
   "outputs": [],
   "source": [
    "kl = 1\n",
    "kh = 2\n",
    "n = 3\n",
    "h = [1,1/3,0]"
   ]
  },
  {
   "cell_type": "code",
   "execution_count": 30,
   "metadata": {},
   "outputs": [
    {
     "name": "stdout",
     "output_type": "stream",
     "text": [
      "Function in Sympy: -0.444444444444444*q1*q2 + 0.888888888888889*q1 - 0.111111111111111*q2 + 0.111111111111111\n",
      "\\ This file has been generated by DOcplex\n",
      "\\ ENCODING=ISO-8859-1\n",
      "\\Problem name: CPLEX\n",
      "\n",
      "Minimize\n",
      " obj: 0.888888888889 q1 - 0.111111111111 q2 + [ - 0.888888888889 q1*q2 ]/2 +\n",
      "      0.111111111111\n",
      "Subject To\n",
      "\n",
      "Bounds\n",
      " 0 <= q1 <= 1\n",
      " 0 <= q2 <= 1\n",
      "\n",
      "Binaries\n",
      " q1 q2\n",
      "End\n",
      "\n",
      "\n",
      "run time: 0.05683755874633789\n",
      "optimal function value: 2.7755575615628914e-17\n",
      "optimal value: [0. 1.]\n",
      "status: SUCCESS\n",
      "k_res:  [1, 2]\n"
     ]
    }
   ],
   "source": [
    "k_res = hydrologic_inverse_analysis(kl,kh,n,h,verbose=True)"
   ]
  },
  {
   "cell_type": "code",
   "execution_count": 31,
   "metadata": {},
   "outputs": [
    {
     "name": "stdout",
     "output_type": "stream",
     "text": [
      "Error Rate = 0.0%\n"
     ]
    }
   ],
   "source": [
    "error_rate = evaluate_performance(k_true, k_res, verbose=True)"
   ]
  },
  {
   "cell_type": "markdown",
   "metadata": {},
   "source": [
    "## Larger 1D Problem"
   ]
  },
  {
   "cell_type": "code",
   "execution_count": 32,
   "metadata": {},
   "outputs": [],
   "source": [
    "def generate_random_1D_data(kl, kh, n):\n",
    "    \"\"\"Generate random data for the value of the heads\n",
    "\n",
    "    Args:\n",
    "        kl (double): low k\n",
    "        kh (double): high k\n",
    "        n (int): number of heads\n",
    "\n",
    "    Returns:\n",
    "        list, list: Returns the random true k values and the linked head values\n",
    "    \"\"\"\n",
    "    k_true = np.random.randint(2, size=n-1)*(kh-kl) +kl\n",
    "    \n",
    "    h1=np.random.rand()\n",
    "    h2=np.random.rand()\n",
    "    h=np.array([h1,h2])\n",
    "    for i in range(1,n-1):\n",
    "        h_next = h[i]+k_true[i-1]/k_true[i]*(h[i]-h[i-1])\n",
    "        h=np.append(h, np.array([h_next]))\n",
    "    return k_true, h"
   ]
  },
  {
   "cell_type": "code",
   "execution_count": 33,
   "metadata": {},
   "outputs": [],
   "source": [
    "kl = 1\n",
    "kh = 2\n",
    "n = 15"
   ]
  },
  {
   "cell_type": "code",
   "execution_count": 34,
   "metadata": {},
   "outputs": [
    {
     "name": "stdout",
     "output_type": "stream",
     "text": [
      "k = [1 1 1 1 2 1 2 1 2 2 1 1 2 2]\n",
      "h = [0.43845853 0.91798295 1.39750738 1.8770318  2.35655622 2.59631843\n",
      " 3.07584285 3.31560506 3.79512948 4.0348917  4.27465391 4.75417833\n",
      " 5.23370275 5.47346496 5.71322717]\n"
     ]
    }
   ],
   "source": [
    "# Generate a dataset with true ks and the head values\n",
    "k_true, h = generate_random_1D_data(kl, kh, n)\n",
    "print(\"k =\", k_true)\n",
    "print(\"h =\", h)"
   ]
  },
  {
   "cell_type": "code",
   "execution_count": 35,
   "metadata": {
    "scrolled": true
   },
   "outputs": [
    {
     "name": "stdout",
     "output_type": "stream",
     "text": [
      "Function in Sympy: -0.459887342459042*q1*q2 + 0.229943671229521*q1 - 0.22994367122952*q10*q11 - 0.11497183561476*q10*q9 - 0.459887342459041*q11*q12 + 0.689831013688561*q11 - 0.22994367122952*q12*q13 + 0.689831013688561*q12 - 0.11497183561476*q13*q14 + 0.0574859178073801*q14 - 0.459887342459042*q2*q3 + 0.459887342459042*q2 - 0.459887342459042*q3*q4 + 0.459887342459041*q3 - 0.229943671229521*q4*q5 + 0.689831013688563*q4 - 0.22994367122952*q5*q6 - 0.11497183561476*q5 - 0.22994367122952*q6*q7 + 0.919774684918081*q6 - 0.22994367122952*q7*q8 - 0.11497183561476*q7 - 0.22994367122952*q8*q9 + 0.919774684918081*q8 + 0.402401424651661\n",
      "\\ This file has been generated by DOcplex\n",
      "\\ ENCODING=ISO-8859-1\n",
      "\\Problem name: CPLEX\n",
      "\n",
      "Minimize\n",
      " obj: 0.229943671230 q1 + 0.459887342459 q2 + 0.459887342459 q3\n",
      "      + 0.689831013689 q4 - 0.114971835615 q5 + 0.919774684918 q6\n",
      "      - 0.114971835615 q7 + 0.919774684918 q8 + 0.689831013689 q11\n",
      "      + 0.689831013689 q12 + 0.057485917807 q14 + [ - 0.919774684918 q1*q2\n",
      "      - 0.919774684918 q2*q3 - 0.919774684918 q3*q4 - 0.459887342459 q4*q5\n",
      "      - 0.459887342459 q5*q6 - 0.459887342459 q6*q7 - 0.459887342459 q7*q8\n",
      "      - 0.459887342459 q8*q9 - 0.229943671230 q9*q10 - 0.459887342459 q10*q11\n",
      "      - 0.919774684918 q11*q12 - 0.459887342459 q12*q13 - 0.229943671230 q13*q14\n",
      "      ]/2 + 0.402401424652\n",
      "Subject To\n",
      "\n",
      "Bounds\n",
      " 0 <= q1 <= 1\n",
      " 0 <= q2 <= 1\n",
      " 0 <= q3 <= 1\n",
      " 0 <= q4 <= 1\n",
      " 0 <= q5 <= 1\n",
      " 0 <= q6 <= 1\n",
      " 0 <= q7 <= 1\n",
      " 0 <= q8 <= 1\n",
      " 0 <= q9 <= 1\n",
      " 0 <= q10 <= 1\n",
      " 0 <= q11 <= 1\n",
      " 0 <= q12 <= 1\n",
      " 0 <= q13 <= 1\n",
      " 0 <= q14 <= 1\n",
      "\n",
      "Binaries\n",
      " q1 q2 q3 q4 q5 q6 q7 q8 q9 q10 q11 q12 q13 q14\n",
      "End\n",
      "\n",
      "\n",
      "run time: 1.3511643409729004\n",
      "optimal function value: 0.862288767110702\n",
      "optimal value: [1. 1. 1. 1. 1. 1. 1. 0. 1. 0. 0. 0. 1. 0.]\n",
      "status: SUCCESS\n",
      "k_res:  [2, 2, 2, 2, 2, 2, 2, 1, 2, 1, 1, 1, 2, 1]\n"
     ]
    }
   ],
   "source": [
    "# Estimate the k values, given only the head values\n",
    "k_res = hydrologic_inverse_analysis(kl,kh,n,h,verbose=True)"
   ]
  },
  {
   "cell_type": "code",
   "execution_count": 36,
   "metadata": {},
   "outputs": [
    {
     "name": "stdout",
     "output_type": "stream",
     "text": [
      "Error Rate = 50.0%\n"
     ]
    }
   ],
   "source": [
    "# Compare the estimation\n",
    "error_rate = evaluate_performance(k_true, k_res, verbose=True)"
   ]
  },
  {
   "cell_type": "markdown",
   "metadata": {},
   "source": [
    "## 1D Problem Performance Analysis\n",
    "In this section we focus on the error analysis for the 1D problem.\n",
    "The routine calculates the estimated error for a given number of heads.\n",
    "The number of heads is increased to see the number of head and error dependence.\n",
    "Additionally the routine is run ten times to have a statistical average."
   ]
  },
  {
   "cell_type": "code",
   "execution_count": 40,
   "metadata": {},
   "outputs": [
    {
     "name": "stdout",
     "output_type": "stream",
     "text": [
      "Current run:  1\n",
      "Current run:  2\n",
      "Current run:  3\n",
      "Current run:  4\n",
      "Current run:  5\n",
      "Current run:  6\n",
      "Current run:  7\n",
      "Current run:  8\n",
      "Current run:  9\n",
      "Current run:  10\n"
     ]
    },
    {
     "data": {
      "image/png": "[encoded data removed]",
      "text/plain": [
       "<Figure size 432x288 with 1 Axes>"
      ]
     },
     "metadata": {
      "needs_background": "light"
     },
     "output_type": "display_data"
    }
   ],
   "source": [
    "# Set everything up\n",
    "runtime = 10\n",
    "num_heads = 15\n",
    "error_set = []\n",
    "avg_set = []\n",
    "# Start the runtime\n",
    "for i in range(runtime):\n",
    "    print(\"Current run: \", i+1)\n",
    "    heads = []\n",
    "    error_rates = []\n",
    "    kl = 1\n",
    "    kh = 2\n",
    "    # Calculate the values for different amounts of heads\n",
    "    for n in range(3,num_heads+1):\n",
    "        k_true, h = generate_random_1D_data(kl, kh, n)\n",
    "        k_res = hydrologic_inverse_analysis(kl, kh, n, h)\n",
    "        error_rate = evaluate_performance(k_true, k_res)\n",
    "        heads.append(len(h))\n",
    "        error_rates.append(error_rate)\n",
    "    error_set.append(error_rates)\n",
    "# Do the statisics, take the average for each amount of heads\n",
    "for i in range(num_heads-2):\n",
    "    avg = 0\n",
    "    for j in range(runtime):\n",
    "        avg+=error_set[j][i]\n",
    "    avg_set.append(avg/runtime*100)\n",
    "\n",
    "plt.plot(heads, avg_set)\n",
    "plt.xlabel(\"Number of heads\")\n",
    "plt.ylabel(\"Avg error percentage\")\n",
    "plt.show()"
   ]
  },
  {
   "cell_type": "markdown",
   "metadata": {},
   "source": [
    "As one can see, the first data have a high error probability, which results from the low amount of heads. In that case it is either 0% error or 100% error, which results in the end in a rather high error probability. For later data one can see, that the error percentage drops to zero and then rises again. Here one can see, that for a larger dataset the errors start to increase."
   ]
  },
  {
   "cell_type": "markdown",
   "metadata": {},
   "source": []
  }
 ],
 "metadata": {
  "interpreter": {
   "hash": "f714f05e6ffb5ded92074cd2d65d63a36667b153e7558a65abc88f4ed2fc286e"
  },
  "kernelspec": {
   "display_name": "Python 3.8.7 64-bit",
   "name": "python3"
  },
  "language_info": {
   "codemirror_mode": {
    "name": "ipython",
    "version": 3
   },
   "file_extension": ".py",
   "mimetype": "text/x-python",
   "name": "python",
   "nbconvert_exporter": "python",
   "pygments_lexer": "ipython3",
   "version": "3.8.7"
  }
 },
 "nbformat": 4,
 "nbformat_minor": 4
}
