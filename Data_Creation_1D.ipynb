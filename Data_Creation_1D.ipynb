{
 "cells": [
  {
   "cell_type": "markdown",
   "metadata": {},
   "source": [
    "## Data Creation for a 1D inverse problem \n",
    "with 21 hydraulic head grid points\n",
    "and 20 permeability vertices"
   ]
  },
  {
   "cell_type": "code",
   "execution_count": 1,
   "metadata": {},
   "outputs": [],
   "source": [
    "import numpy as np"
   ]
  },
  {
   "cell_type": "markdown",
   "metadata": {},
   "source": [
    "In analogy to the nature paper we chose $K_l=1$ and use $K_h$-values between $K_h=1.25$ and $K_h=3.16$\n",
    "\n",
    "After calculating $h$ out of randomly binary chosen $k$-values, gaussian distributed noise with $\\sigma$ between $10^{-6}<=\\sigma<=10^{-2}$ is added to the h-values."
   ]
  },
  {
   "cell_type": "code",
   "execution_count": 37,
   "metadata": {},
   "outputs": [],
   "source": [
    "kl = 1\n",
    "kh = 2.34 #between 10e0.1 and 10e0.5\n",
    "\n",
    "k = np.random.randint(2, size=20)*(kh-kl) +kl"
   ]
  },
  {
   "cell_type": "code",
   "execution_count": 44,
   "metadata": {},
   "outputs": [],
   "source": [
    "h1=np.random.rand()\n",
    "h2=np.random.rand()\n",
    "h=np.array([h1,h2])\n",
    "\n",
    "mu=0\n",
    "sigma=10e-6 #between 10e-6 and 10e-2\n",
    "for i in range(1,20):\n",
    "    h_next = h[i]+k[i-1]/k[i]*(h[i]-h[i-1])\n",
    "    h_next += np.random.normal(mu, sigma)\n",
    "    h=np.append(h, np.array([h_next]))"
   ]
  },
  {
   "cell_type": "code",
   "execution_count": 45,
   "metadata": {},
   "outputs": [
    {
     "name": "stdout",
     "output_type": "stream",
     "text": [
      "k = [1.   1.   2.34 1.   1.   1.   2.34 2.34 1.   2.34 2.34 1.   1.   1.\n",
      " 1.   1.   2.34 1.   2.34 2.34] \n",
      " h = [ 0.58586031  0.06568776 -0.45448971 -0.6768007  -1.19700816 -1.71721421\n",
      " -2.23742958 -2.45974    -2.68205201 -3.20224131 -3.42454275 -3.64683647\n",
      " -4.16701089 -4.6871763  -5.20734222 -5.72750749 -6.24767566 -6.46996972\n",
      " -6.99014596 -7.21242964 -7.43472402]\n"
     ]
    }
   ],
   "source": [
    "print(\"k =\", k, \"\\n\", \"h =\", h)"
   ]
  }
 ],
 "metadata": {
  "kernelspec": {
   "display_name": "Python 3",
   "language": "python",
   "name": "python3"
  },
  "language_info": {
   "codemirror_mode": {
    "name": "ipython",
    "version": 3
   },
   "file_extension": ".py",
   "mimetype": "text/x-python",
   "name": "python",
   "nbconvert_exporter": "python",
   "pygments_lexer": "ipython3",
   "version": "3.8.5"
  }
 },
 "nbformat": 4,
 "nbformat_minor": 4
}
