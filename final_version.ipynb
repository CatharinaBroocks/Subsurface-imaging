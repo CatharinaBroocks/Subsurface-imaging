{
 "cells": [
  {
   "cell_type": "markdown",
   "metadata": {},
   "source": [
    "# Subsurface Imaging"
   ]
  },
  {
   "cell_type": "markdown",
   "metadata": {},
   "source": [
    "Our code follows the approach from the paper \"An approach to quantum-computational hydrologic inverse analysis\" by Daniel O'Malley. \n",
    "\n",
    "Our goal is to devide a given subsurface into regions with high permeability $k_h$ and low permeability $k_l$.\n",
    "\n",
    "In a first step, we define most of the relevant functions. \n",
    "\n",
    "We continue with the small 1D problem, which demonstrates the general procedure. Afterwards, we extend this to a larger problem and the 2D case. For all 3 parts the proceeding was similar: \n",
    "\n",
    "First we randomly generate binary valued ($k_l$,$k_h$) permeability data. Then we use a discretized version of the equation $\\nabla (k\\nabla h)=0$ to generate realistic hydraulic head values $h$.\n",
    "\n",
    "After that we start with the actual inverse analysis by using an QAOA routine already available in Qiskit to extract the permeability $k$ from the given $h$ values.\n",
    "\n",
    "For the large 1D problem we additionally performed a benchmarking."
   ]
  },
  {
   "cell_type": "code",
   "execution_count": 1,
   "metadata": {},
   "outputs": [],
   "source": [
    "# Import math functions (numpy) and sympy for creating formulars\n",
    "from IPython.display import clear_output\n",
    "import numpy as np\n",
    "import sympy as sp\n",
    "from fractions import Fraction\n",
    "import matplotlib.pyplot as plt"
   ]
  },
  {
   "cell_type": "code",
   "execution_count": 2,
   "metadata": {},
   "outputs": [],
   "source": [
    "# Import qiskit framework\n",
    "from qiskit import IBMQ\n",
    "from qiskit_optimization import QuadraticProgram\n",
    "from qiskit import Aer\n",
    "from qiskit.utils import QuantumInstance\n",
    "from qiskit_optimization.algorithms import MinimumEigenOptimizer\n",
    "from qiskit.algorithms import QAOA"
   ]
  },
  {
   "cell_type": "code",
   "execution_count": 7,
   "metadata": {},
   "outputs": [],
   "source": [
    "#IBMQ.load_account()\n",
    "#provider = IBMQ.get_provider(hub='ibm-q')"
   ]
  },
  {
   "cell_type": "code",
   "execution_count": 3,
   "metadata": {},
   "outputs": [],
   "source": [
    "clear_output()"
   ]
  },
  {
   "cell_type": "markdown",
   "metadata": {},
   "source": [
    "## Define Functions"
   ]
  },
  {
   "cell_type": "code",
   "execution_count": 4,
   "metadata": {},
   "outputs": [],
   "source": [
    "def construct_function(kl, kh, n, h):\n",
    "    \"\"\"Constructs the mathematical function to be optimized\n",
    "\n",
    "    Args:\n",
    "        kl (double): low permeability value \n",
    "        kh (double): high permeability value\n",
    "        n (int): number of hydraulic heads\n",
    "        h (list): values for each of the hydraulic heads\n",
    "\n",
    "    Returns:\n",
    "        sympyfunction, dict: mathematical sympy function with coefficients\n",
    "    \"\"\"\n",
    "    function = 0\n",
    "    sp.init_printing(use_unicode=True)\n",
    "    \n",
    "    # construct variables for each permeability\n",
    "    for i in range(1,n):\n",
    "        globals()['q%s' % i] = sp.symbols('q'+str(i))\n",
    "        globals()['h%s' % i] = sp.symbols('q'+str(i))\n",
    "        \n",
    "    # for each permeability, add its contribution to the total cost function\n",
    "    for i in range(2,n):\n",
    "        term = ((kl+globals()['q%s' % (i-1)]*(kh-kl))*(h[i-2]-h[i-1])+(kl+globals()['q%s' % (i)]*(kh-kl))*(h[i]-h[i-1]))**2\n",
    "        function = function + term\n",
    "        \n",
    "    # expand and simplify the cost function\n",
    "    function = sp.expand(function)\n",
    "    \n",
    "    # convert all square terms into linear terms as qi^2 = qi = 0 or 1 for all i and simplify the cost function\n",
    "    for i in range(1,n):\n",
    "        function = function.subs(sp.symbols('q'+str(i))**2, (sp.symbols('q'+str(i))))\n",
    "        coeffs = sp.Poly(function).as_dict()\n",
    "        \n",
    "    # function in sympy form and coefficients of all terms in an easily readble dictionary form returned\n",
    "    return function, coeffs"
   ]
  },
  {
   "cell_type": "code",
   "execution_count": 5,
   "metadata": {},
   "outputs": [],
   "source": [
    "def generate_QP(coeffs, n, verbose=False):\n",
    "    \"\"\"Generates the Quadratic Program to be optimized\n",
    "\n",
    "    Args:\n",
    "        coeffs (dict): Contains the coefficients from the sympy funciton\n",
    "        n (int): Number of hydraulic heads\n",
    "\n",
    "    Returns:\n",
    "        QuadraticProgram: The quadratic program to optimize\n",
    "    \"\"\"\n",
    "    qp = QuadraticProgram()   #Initialize a Qiskit Quadratic Program object\n",
    "    for i in range(1,n):\n",
    "        qp.binary_var('q'+str(i))     #Permeabilities ki are modeled by binary vairables qi\n",
    "    constant = 0      # constant term\n",
    "    linear = {}      # coefficients for linear terms\n",
    "    quadratic = {}    # coefficients for coupling terms\n",
    "    for key,value in coeffs.items():    # add coefficients to the corresponding dictionaries one by one\n",
    "        if sum(key) == 0:\n",
    "            constant = float(value)\n",
    "        elif sum(key) == 1:\n",
    "            term = 'q'+str(np.argmax(key)+1)\n",
    "            linear[term] = float(value)\n",
    "        else:\n",
    "            indices = [i[0] for i in np.argwhere(np.array(key)>0)]\n",
    "            term = ('q'+str(indices[0]+1),'q'+str(indices[1]+1))\n",
    "            quadratic[term] = float(value)\n",
    "    qp.minimize(linear=linear, quadratic=quadratic, constant=constant)     # run the optimization algorithm, find minimum value\n",
    "    if verbose:\n",
    "        print(qp.export_as_lp_string())    #make a printed report of the task\n",
    "    return qp"
   ]
  },
  {
   "cell_type": "code",
   "execution_count": 6,
   "metadata": {},
   "outputs": [],
   "source": [
    "def hydrologic_inverse_analysis(kl,kh,n,h, verbose=False):\n",
    "    \"\"\"Constructs and solves the mathematical function\n",
    "\n",
    "    Args:\n",
    "        kl (double): low permeability value\n",
    "        kh (double): high permeability value\n",
    "        n (int): number of hydraulic heads\n",
    "        h (list): values for each of the hydraulic heads\n",
    "        verbose (Bool): Output information or not\n",
    "\n",
    "    Returns:\n",
    "        list: list with the estimated permeability values k for the hydraulic heads h\n",
    "    \"\"\"\n",
    "    # Create the mathematical function\n",
    "    function, coeffs = construct_function(kl,kh,n,h)\n",
    "    if verbose:\n",
    "        print('Function in Sympy:', function)\n",
    "    # Generate the quadratic problem and solve it with Qiskit\n",
    "    qp = generate_QP(coeffs,n,verbose)\n",
    "    qins = QuantumInstance(backend=Aer.get_backend('qasm_simulator'), shots=1000, seed_simulator=123)\n",
    "    meo = MinimumEigenOptimizer(min_eigen_solver=QAOA(reps=1, quantum_instance=qins))  # solve with QAOA algorithm,\n",
    "    result = meo.solve(qp)    #could replace by classical solver and other quantum solvers\n",
    "    if verbose:\n",
    "        print('\\nrun time:', result.min_eigen_solver_result.optimizer_time)\n",
    "        print(result)\n",
    "    k = [int(i) for i in list(kl+result.x*(kh-kl))]\n",
    "    if verbose:\n",
    "        print('k_res: ', k)\n",
    "    return k"
   ]
  },
  {
   "cell_type": "code",
   "execution_count": 7,
   "metadata": {},
   "outputs": [],
   "source": [
    "def evaluate_performance(k_true,k_res, verbose=False):\n",
    "    \"\"\"Evaluate the performance of the estimation by calculating missmatches and comparing them to the total number of values\n",
    "\n",
    "    Args:\n",
    "        k_true (list): True permeability values \n",
    "        k_res (list): Estimated permeability values\n",
    "        verbose (Bool): Output information or not\n",
    "\n",
    "    Returns:\n",
    "        double: Error rate\n",
    "    \"\"\"\n",
    "    total_number = len(k_true)\n",
    "    false_count = 0\n",
    "    for i in range(len(k_true)):\n",
    "        if k_true[i] != k_res[i]:\n",
    "            false_count += 1\n",
    "    error_rate = false_count / total_number\n",
    "    if verbose:\n",
    "        print('Error Rate = '+ str(error_rate*100)+'%')\n",
    "    return error_rate"
   ]
  },
  {
   "cell_type": "code",
   "execution_count": 28,
   "metadata": {},
   "outputs": [],
   "source": [
    "def construct_function_2D(kl, kh, n, h):\n",
    "    \"\"\"Constructs the mathematical function to be optimized\n",
    "\n",
    "    Args:\n",
    "        kl (double): low permeability value\n",
    "        kh (double): high permeability value\n",
    "        n (int): number of hydraulic heads\n",
    "        h (list): values for each of the hydraulic heads\n",
    "\n",
    "    Returns:\n",
    "        sympyfunction, dict: mathematical sympy function with coefficients\n",
    "    \"\"\"\n",
    "    function = 0\n",
    "    sp.init_printing(use_unicode=True)\n",
    "    \n",
    "    # construct variables for each permeability\n",
    "    for i in range(1,n):\n",
    "        for j in range(1,n+1):\n",
    "            globals()['qy%s%s' %(i,j)] = sp.symbols('qy'+str(i)+str(j))\n",
    "    for i in range(1,n+1):\n",
    "        for j in range(1,n):\n",
    "            globals()['qx%s%s' %(i,j)] = sp.symbols('qx'+str(i)+str(j))\n",
    "        \n",
    "    # for each permeability, add its contribution to the total cost function\n",
    "    for i in range(2,n+1): \n",
    "        for j in range(2,n+1): \n",
    "            term = ((kl+globals()['qx%s%s' %(i-1,j-1)] *(kh-kl))*(h[i-1][j]-h[i][j])+(kl+globals()['qx%s%s' %(i,j-1)] *(kh-kl))*(h[i+1][j]-h[i][j])+(kl+globals()['qy%s%s' %(i-1,j-1)] *(kh-kl))*(h[i][j-1]-h[i][j])+(kl+globals()['qy%s%s' %(i-1,j)] *(kh-kl))*(h[i][j+1]-h[i][j]))**2\n",
    "            function = function + term\n",
    "        \n",
    "    # expand and simplify the cost function\n",
    "    function = sp.expand(function)\n",
    "    \n",
    "    # convert all square terms into linear terms as qi^2 = qi = 0 or 1 for all i and simplify the cost function\n",
    "    for i in range(1,n+1):\n",
    "        for j in range(1,n+1):\n",
    "            function = function.subs(sp.symbols('qx'+str(i)+str(j))**2, (sp.symbols('qx'+str(i)+str(j))))\n",
    "            function = function.subs(sp.symbols('qy'+str(i)+str(j))**2, (sp.symbols('qy'+str(i)+str(j))))\n",
    "    coeffs = sp.Poly(function).as_dict()\n",
    "    # function in sympy form and coefficients of all terms in an easily readble dictionary form returned\n",
    "    return function, coeffs"
   ]
  },
  {
   "cell_type": "code",
   "execution_count": 9,
   "metadata": {},
   "outputs": [],
   "source": [
    "def coefficients_order_2D(n):\n",
    "    \"\"\"Find the order of printed coefficients from sympy\n",
    "\n",
    "    Args:\n",
    "        n (int): number of hydraulic heads\n",
    "\n",
    "    Returns:\n",
    "        list: a list containing the name of the terms in str format corresponding to the coefficients in order\n",
    "        eg. ['qx11','qx12','qx13','qx21', ...]\n",
    "    \"\"\"\n",
    "    order_list = []\n",
    "    for i in range(1,n+1):\n",
    "        for j in range(1,n):\n",
    "            order_list.append('qx'+str(i)+str(j))\n",
    "    for i in range(1,n):\n",
    "        for j in range(1,n+1):\n",
    "            order_list.append('qy'+str(i)+str(j))\n",
    "    return order_list"
   ]
  },
  {
   "cell_type": "code",
   "execution_count": 10,
   "metadata": {},
   "outputs": [],
   "source": [
    "def generate_QP_2D(coeffs, n, verbose=False):\n",
    "    \"\"\"Generates the Quadratic Program to be optimized\n",
    "\n",
    "    Args:\n",
    "        coeffs (dict): Contains the coefficients from the sympy funciton\n",
    "        n (int): Number of hydraulic heads\n",
    "\n",
    "    Returns:\n",
    "        QuadraticProgram: The quadratic program to optimize\n",
    "    \"\"\"\n",
    "    qp = QuadraticProgram()  #Initialize a Qiskit Quadratic Program object\n",
    "    for i in range(1,n):\n",
    "        for j in range(1,n+1):\n",
    "            qp.binary_var('qy'+str(i)+str(j))\n",
    "    for i in range(1,n+1):\n",
    "        for j in range(1,n):\n",
    "            qp.binary_var('qx'+str(i)+str(j))    #Permeabilities kxij, kyij are modeled by binary vairables qxij, qyij\n",
    "    constant = 0    # constant term\n",
    "    linear = {}     # coefficients for linear terms\n",
    "    quadratic = {}    # coefficients for coupling terms\n",
    "    order_list = coefficients_order_2D(n)\n",
    "    for key,value in coeffs.items():    # add coefficients to the corresponding dictionaries one by one\n",
    "        if sum(key) == 0:\n",
    "            constant = float(value)\n",
    "        elif sum(key) == 1:\n",
    "            term = order_list[np.argmax(key)]\n",
    "            linear[term] = float(value)\n",
    "        else:\n",
    "            indices = [i[0] for i in np.argwhere(np.array(key)>0)]\n",
    "            term = (order_list[indices[0]],order_list[indices[1]])\n",
    "            quadratic[term] = float(value)\n",
    "    qp.minimize(linear=linear, quadratic=quadratic, constant=constant)    # run the optimization algorithm, find minimum value\n",
    "    if verbose:\n",
    "        print(qp.export_as_lp_string())   #make a printed report of the task\n",
    "    return qp"
   ]
  },
  {
   "cell_type": "code",
   "execution_count": 11,
   "metadata": {},
   "outputs": [],
   "source": [
    "def hydrologic_inverse_analysis_2D(kl,kh,n,h, verbose=False):\n",
    "    \"\"\"Constructs and solves the mathematical function\n",
    "\n",
    "    Args:\n",
    "        kl (double): low permeability value\n",
    "        kh (double): high permeability value\n",
    "        n (int): number of hydraulic heads\n",
    "        h (list): values for each of the hydraulic heads\n",
    "        verbose (Bool): Output information or not\n",
    "\n",
    "    Returns:\n",
    "        list: list with the estimated permeability values k for the hydraulic heads h\n",
    "    \"\"\"\n",
    "    # Create the mathematical function\n",
    "    function, coeffs = construct_function_2D(kl,kh,n,h)\n",
    "    if verbose:\n",
    "        print('Function in Sympy:', function)\n",
    "    # Generate the quadratic problem and solve it with Qiskit\n",
    "    qp = generate_QP_2D(coeffs,n,verbose)\n",
    "    qins = QuantumInstance(backend=Aer.get_backend('qasm_simulator'), shots=1000, seed_simulator=123)\n",
    "    meo = MinimumEigenOptimizer(min_eigen_solver=QAOA(reps=1, quantum_instance=qins))   # solve with QAOA algorithm,\n",
    "    result = meo.solve(qp)     #could replace by classical solver and other quantum solvers\n",
    "    if verbose:\n",
    "        print('\\nrun time:', result.min_eigen_solver_result.optimizer_time)\n",
    "        print(result)\n",
    "    k = [int(i) for i in list(kl+result.x*(kh-kl))]\n",
    "    kx= np.array(k[:n*(n-1)]).reshape((n,n-1))\n",
    "    ky = np.array(k[n*(n-1):]).reshape((n-1,n))\n",
    "    if verbose:\n",
    "        print('kx_res: ', kx)\n",
    "        print('ky_res: ', ky)\n",
    "    return kx, ky"
   ]
  },
  {
   "cell_type": "code",
   "execution_count": 12,
   "metadata": {},
   "outputs": [],
   "source": [
    "def evaluate_performance_2D(kx_true,ky_true,kx_res,ky_res, verbose=False):\n",
    "    \"\"\"Evaluate the performance of the estimation by calculating missmatches and comparing them to the total number of values\n",
    "\n",
    "    Args:\n",
    "        kx_true (list): True permeability values in x-direction \n",
    "        ky_true (list): True permeability values in y-direction\n",
    "        kx_res (list): Estimated permeability values in x-direction\n",
    "        ky_res (list): Estimated permeability values in y-direction\n",
    "        verbose (Bool): Output information or not\n",
    "\n",
    "    Returns:\n",
    "        double: Error rate\n",
    "    \"\"\"\n",
    "    total_number = 4*len(kx_true)\n",
    "    false_count = np.sum(np.abs(kx_true-kx_res))+np.sum(np.abs(ky_true-ky_res))\n",
    "    error_rate = false_count / total_number\n",
    "    if verbose:\n",
    "        print('Error Rate = '+ str(error_rate*100)+'%')\n",
    "    print(false_count)\n",
    "    \n",
    "    return error_rate"
   ]
  },
  {
   "cell_type": "markdown",
   "metadata": {},
   "source": [
    "## Small 1D Problem"
   ]
  },
  {
   "cell_type": "markdown",
   "metadata": {},
   "source": [
    "Given: 3 heads with $h_1=1, h_2=\\frac{1}{3}, h_3=0$ <br>\n",
    "Assumption: $k_l = 1, k_h = 2$ <br>\n",
    "Task: minimize  $f(q_1, q_2) = \\frac{8}{9}q_1 − \\frac{1}{9}q_2 − \\frac{4}{9}q_1q_2 + \\frac{1}{9}$"
   ]
  },
  {
   "cell_type": "markdown",
   "metadata": {},
   "source": [
    "Data generation:"
   ]
  },
  {
   "cell_type": "code",
   "execution_count": 13,
   "metadata": {},
   "outputs": [],
   "source": [
    "k_true = [1,2] #assumption values for k"
   ]
  },
  {
   "cell_type": "code",
   "execution_count": 14,
   "metadata": {},
   "outputs": [],
   "source": [
    "kl = 1        # low permeability value\n",
    "kh = 2        # high permeability value\n",
    "n = 3         # number of hydraulic heads\n",
    "h = [1,1/3,0] # values for each of the hydraulic heads"
   ]
  },
  {
   "cell_type": "markdown",
   "metadata": {},
   "source": [
    "Inverse analysis:"
   ]
  },
  {
   "cell_type": "code",
   "execution_count": 15,
   "metadata": {},
   "outputs": [
    {
     "name": "stdout",
     "output_type": "stream",
     "text": [
      "Function in Sympy: -0.444444444444444*q1*q2 + 0.888888888888889*q1 - 0.111111111111111*q2 + 0.111111111111111\n",
      "\\ This file has been generated by DOcplex\n",
      "\\ ENCODING=ISO-8859-1\n",
      "\\Problem name: CPLEX\n",
      "\n",
      "Minimize\n",
      " obj: 0.888888888889 q1 - 0.111111111111 q2 + [ - 0.888888888889 q1*q2 ]/2 +\n",
      "      0.111111111111\n",
      "Subject To\n",
      "\n",
      "Bounds\n",
      " 0 <= q1 <= 1\n",
      " 0 <= q2 <= 1\n",
      "\n",
      "Binaries\n",
      " q1 q2\n",
      "End\n",
      "\n",
      "\n",
      "run time: 0.031022071838378906\n",
      "optimal function value: 2.7755575615628914e-17\n",
      "optimal value: [0. 1.]\n",
      "status: SUCCESS\n",
      "k_res:  [1, 2]\n"
     ]
    }
   ],
   "source": [
    "k_res = hydrologic_inverse_analysis(kl,kh,n,h,verbose=True) #permeability results using QAOA"
   ]
  },
  {
   "cell_type": "markdown",
   "metadata": {},
   "source": [
    "Error rate:"
   ]
  },
  {
   "cell_type": "code",
   "execution_count": 16,
   "metadata": {},
   "outputs": [
    {
     "name": "stdout",
     "output_type": "stream",
     "text": [
      "Error Rate = 0.0%\n"
     ]
    }
   ],
   "source": [
    "error_rate = evaluate_performance(k_true, k_res, verbose=True) # error between calculated and assumed k values"
   ]
  },
  {
   "cell_type": "markdown",
   "metadata": {},
   "source": [
    "## Larger 1D Problem"
   ]
  },
  {
   "cell_type": "markdown",
   "metadata": {},
   "source": [
    "Data generation:"
   ]
  },
  {
   "cell_type": "markdown",
   "metadata": {},
   "source": [
    "The hydraulic values are determined by given random binary valued permeability values via\n",
    "$h_{i+1}=h_i+\\frac{k_{i-1}}{k_i}(h_i - h_{i-1}).$\n",
    "\n",
    "The equation is under-determined and needs two starting h values."
   ]
  },
  {
   "cell_type": "code",
   "execution_count": 17,
   "metadata": {},
   "outputs": [],
   "source": [
    "def generate_random_1D_data(kl, kh, n):\n",
    "    \"\"\"Generate random data for the value of the heads\n",
    "\n",
    "    Args:\n",
    "\n",
    "        kl (double): low permeability value\n",
    "        kh (double): high permeability value\n",
    "        n (int): number of hydraulic heads\n",
    "\n",
    "    Returns:\n",
    "        list, list: Returns the random true permeability values k and the corresponding hydraulic head values h\n",
    "    \"\"\"\n",
    "    k_true = np.random.randint(2, size=n-1)*(kh-kl) +kl\n",
    "    \n",
    "    h=np.random.rand(2) # generation of two random starting values\n",
    "    for i in range(1,n-1):\n",
    "        h_next = h[i]+k_true[i-1]/k_true[i]*(h[i]-h[i-1])\n",
    "        h=np.append(h, np.array([h_next]))\n",
    "    return k_true, h"
   ]
  },
  {
   "cell_type": "code",
   "execution_count": 18,
   "metadata": {},
   "outputs": [],
   "source": [
    "kl = 1 # low permeability value\n",
    "kh = 2 # high permeability value \n",
    "n = 15 # number of hydraulic heads"
   ]
  },
  {
   "cell_type": "code",
   "execution_count": 19,
   "metadata": {},
   "outputs": [
    {
     "name": "stdout",
     "output_type": "stream",
     "text": [
      "k = [2 1 1 1 2 2 2 2 1 2 1 1 1 2]\n",
      "h = [0.46671309 0.50639648 0.58576328 0.66513007 0.74449687 0.78418026\n",
      " 0.82386366 0.86354706 0.90323046 0.98259725 1.02228065 1.10164744\n",
      " 1.18101423 1.26038103 1.30006443]\n"
     ]
    }
   ],
   "source": [
    "# Generate a dataset with true k's and the hydraulic head values\n",
    "k_true, h = generate_random_1D_data(kl, kh, n)\n",
    "print(\"k =\", k_true)\n",
    "print(\"h =\", h)"
   ]
  },
  {
   "cell_type": "markdown",
   "metadata": {},
   "source": [
    "Inverse analysis:"
   ]
  },
  {
   "cell_type": "code",
   "execution_count": 20,
   "metadata": {
    "scrolled": true
   },
   "outputs": [
    {
     "name": "stdout",
     "output_type": "stream",
     "text": [
      "Function in Sympy: -0.00629908799809494*q1*q2 - 0.00157477199952374*q1 - 0.00629908799809494*q10*q11 - 0.00629908799809494*q10*q9 - 0.00314954399904747*q10 - 0.0125981759961899*q11*q12 + 0.0188972639942848*q11 - 0.0125981759961899*q12*q13 + 0.0125981759961899*q12 - 0.00629908799809492*q13*q14 + 0.0188972639942848*q13 - 0.00157477199952374*q14 - 0.0125981759961899*q2*q3 + 0.0188972639942848*q2 - 0.0125981759961899*q3*q4 + 0.0125981759961899*q3 - 0.00629908799809494*q4*q5 + 0.0188972639942848*q4 - 0.00314954399904747*q5*q6 - 0.00314954399904747*q6*q7 + 0.00314954399904747*q6 - 0.00314954399904747*q7*q8 + 0.00314954399904747*q7 - 0.00629908799809494*q8*q9 + 0.0251963519923798*q9 + 0.00944863199714242\n",
      "\\ This file has been generated by DOcplex\n",
      "\\ ENCODING=ISO-8859-1\n",
      "\\Problem name: CPLEX\n",
      "\n",
      "Minimize\n",
      " obj: - 0.001574772000 q1 + 0.018897263994 q2 + 0.012598175996 q3\n",
      "      + 0.018897263994 q4 + 0.003149543999 q6 + 0.003149543999 q7\n",
      "      + 0.025196351992 q9 - 0.003149543999 q10 + 0.018897263994 q11\n",
      "      + 0.012598175996 q12 + 0.018897263994 q13 - 0.001574772000 q14 + [\n",
      "      - 0.012598175996 q1*q2 - 0.025196351992 q2*q3 - 0.025196351992 q3*q4\n",
      "      - 0.012598175996 q4*q5 - 0.006299087998 q5*q6 - 0.006299087998 q6*q7\n",
      "      - 0.006299087998 q7*q8 - 0.012598175996 q8*q9 - 0.012598175996 q9*q10\n",
      "      - 0.012598175996 q10*q11 - 0.025196351992 q11*q12 - 0.025196351992 q12*q13\n",
      "      - 0.012598175996 q13*q14 ]/2 + 0.009448631997\n",
      "Subject To\n",
      "\n",
      "Bounds\n",
      " 0 <= q1 <= 1\n",
      " 0 <= q2 <= 1\n",
      " 0 <= q3 <= 1\n",
      " 0 <= q4 <= 1\n",
      " 0 <= q5 <= 1\n",
      " 0 <= q6 <= 1\n",
      " 0 <= q7 <= 1\n",
      " 0 <= q8 <= 1\n",
      " 0 <= q9 <= 1\n",
      " 0 <= q10 <= 1\n",
      " 0 <= q11 <= 1\n",
      " 0 <= q12 <= 1\n",
      " 0 <= q13 <= 1\n",
      " 0 <= q14 <= 1\n",
      "\n",
      "Binaries\n",
      " q1 q2 q3 q4 q5 q6 q7 q8 q9 q10 q11 q12 q13 q14\n",
      "End\n",
      "\n",
      "\n",
      "run time: 1.5293655395507812\n",
      "optimal function value: 0.004724315998571213\n",
      "optimal value: [1. 0. 0. 0. 1. 0. 1. 1. 0. 1. 0. 0. 0. 0.]\n",
      "status: SUCCESS\n",
      "k_res:  [2, 1, 1, 1, 2, 1, 2, 2, 1, 2, 1, 1, 1, 1]\n"
     ]
    }
   ],
   "source": [
    "# Estimate the k values, given only the head values\n",
    "k_res = hydrologic_inverse_analysis(kl,kh,n,h,verbose=True)"
   ]
  },
  {
   "cell_type": "markdown",
   "metadata": {},
   "source": [
    "Error rate:"
   ]
  },
  {
   "cell_type": "code",
   "execution_count": 21,
   "metadata": {},
   "outputs": [
    {
     "name": "stdout",
     "output_type": "stream",
     "text": [
      "Error Rate = 14.285714285714285%\n"
     ]
    }
   ],
   "source": [
    "# Compare the estimation\n",
    "error_rate = evaluate_performance(k_true, k_res, verbose=True)"
   ]
  },
  {
   "cell_type": "markdown",
   "metadata": {},
   "source": [
    "Performance Analysis:"
   ]
  },
  {
   "cell_type": "markdown",
   "metadata": {},
   "source": [
    "In this section we focus on the error analysis for the 1D problem.\n",
    "The routine calculates the estimated error for a given number of heads.\n",
    "The number of heads is increased to see the dependency of heads to the error rate.\n",
    "Additionally the routine is run ten times to have a statistical average."
   ]
  },
  {
   "cell_type": "code",
   "execution_count": 22,
   "metadata": {},
   "outputs": [
    {
     "name": "stdout",
     "output_type": "stream",
     "text": [
      "Current run:  1\n",
      "Current run:  2\n",
      "Current run:  3\n",
      "Current run:  4\n",
      "Current run:  5\n",
      "Current run:  6\n",
      "Current run:  7\n",
      "Current run:  8\n",
      "Current run:  9\n",
      "Current run:  10\n"
     ]
    },
    {
     "data": {
      "image/png": "[encoded data removed]",
      "text/plain": [
       "<Figure size 432x288 with 1 Axes>"
      ]
     },
     "metadata": {
      "needs_background": "light"
     },
     "output_type": "display_data"
    }
   ],
   "source": [
    "# Set everything up\n",
    "runtime = 10\n",
    "num_heads = 15\n",
    "error_set = []\n",
    "avg_set = []\n",
    "# Start the runtime\n",
    "for i in range(runtime):\n",
    "    print(\"Current run: \", i+1)\n",
    "    heads = []\n",
    "    error_rates = []\n",
    "    kl = 1\n",
    "    kh = 2\n",
    "    # Calculate the values for different amounts of heads\n",
    "    for n in range(3,num_heads+1):\n",
    "        k_true, h = generate_random_1D_data(kl, kh, n)\n",
    "        k_res = hydrologic_inverse_analysis(kl, kh, n, h)\n",
    "        error_rate = evaluate_performance(k_true, k_res)\n",
    "        heads.append(len(h))\n",
    "        error_rates.append(error_rate)\n",
    "    error_set.append(error_rates)\n",
    "# Do the statisics, take the average for each amount of heads\n",
    "for i in range(num_heads-2):\n",
    "    avg = 0\n",
    "    for j in range(runtime):\n",
    "        avg+=error_set[j][i]\n",
    "    avg_set.append(avg/runtime*100)\n",
    "\n",
    "plt.plot(heads, avg_set)\n",
    "plt.xlabel(\"Number of heads\")\n",
    "plt.ylabel(\"Avg error percentage\")\n",
    "plt.show()"
   ]
  },
  {
   "cell_type": "markdown",
   "metadata": {},
   "source": [
    "As one can see, the first data have a high error probability, which results from the low amount of heads. In that case it is either 0% error or 100% error, which results in the end in a rather high error probability. For later data one can see, that the error percentage drops to zero and then rises again. Here one can see, that for a larger dataset the errors start to increase."
   ]
  },
  {
   "cell_type": "markdown",
   "metadata": {},
   "source": [
    "## 2D Problem"
   ]
  },
  {
   "cell_type": "markdown",
   "metadata": {},
   "source": [
    "Data generation:"
   ]
  },
  {
   "cell_type": "markdown",
   "metadata": {},
   "source": [
    "Creation of extended random binary-valued $k_{x,ext}$ and $k_{y,ext}$ arrays with 2 columns and rows more than we will extract from the inverse analysis.\n",
    "For the $h_{ext}$ we choose the first two rows and the left and right column with random values to calculate a fitting array for the $h$-values using the equation $h_{i+1,j}=h_{i,j}-\\frac{k^x_{i-1,j-1}}{k^x_{i,j-1}}\\cdot (h_{i-1,j}-h_{i,j})-\\frac{k^y_{i-1,j-1}}{k^x_{i,j-1}}\\cdot (h_{i,j-1}-h_{i,j})-\\frac{k^y_{i-1,j}}{k^x_{i,j-1}}\\cdot (h_{i,j+1}-h_{i,j}).$"
   ]
  },
  {
   "cell_type": "code",
   "execution_count": 23,
   "metadata": {},
   "outputs": [],
   "source": [
    "dim=3\n",
    "k_l=1 #low permeability value\n",
    "k_h=2 #high permeability value\n",
    "\n",
    "k_x_ext=np.random.randint(k_l, k_h+1, size=(dim+2, dim+1) )\n",
    "k_y_ext=np.random.randint(k_l, k_h+1, size=(dim+1, dim+2) )\n",
    "h_ext=np.random.rand(dim+2, dim+2) "
   ]
  },
  {
   "cell_type": "code",
   "execution_count": 24,
   "metadata": {},
   "outputs": [],
   "source": [
    "#above fields were used to obtain simulated hydraulic heads \n",
    "for i in range(1,dim+1):\n",
    "    for j in range(1, dim+1):\n",
    "        h_ext[i+1][j]=-(1/k_x_ext[i][j-1])*(k_x_ext[i-1][j-1]*h_ext[i-1][j]-\n",
    "                      k_y_ext[i-1][j-1]*h_ext[i][j-1]-\n",
    "                      k_y_ext[i-1][j]*h_ext[i][j+1]+\n",
    "                      (k_x_ext[i-1][j-1]+k_x_ext[i][j-1]+k_y_ext[i-1][j]+k_y_ext[i-1][j-1])*h_ext[i][j])\n",
    "\n",
    "k_x= k_x_ext[1:dim+1,1:dim]\n",
    "k_y= k_y_ext[1:dim,1:dim+1]"
   ]
  },
  {
   "cell_type": "markdown",
   "metadata": {},
   "source": [
    "Inverse analysis:"
   ]
  },
  {
   "cell_type": "code",
   "execution_count": 29,
   "metadata": {
    "scrolled": true
   },
   "outputs": [
    {
     "name": "stdout",
     "output_type": "stream",
     "text": [
      "Function in Sympy: 2.09655868654504*qx11*qx21 + 0.983153488455328*qx11*qy11 + 1.27437438431084*qx11*qy12 + 4.49402560115963*qx11 + 72.3931561738453*qx12*qx22 + 19.505297062345*qx12*qy12 + 22.1476656638574*qx12*qy13 + 146.829215035232*qx12 + 573.557146870396*qx21*qx31 + 22.0943236340801*qx21*qy11 + 28.6389057340202*qx21*qy12 + 152.51186756371*qx21*qy21 + 124.769068729729*qx21*qy22 + 1045.01521936596*qx21 + 1347.7184725985*qx22*qx32 + 64.6087549492969*qx22*qy12 + 73.3612566371797*qx22*qy13 + 281.4763336867*qx22*qy22 + 174.994401087022*qx22*qy23 + 2733.93106579677*qx22 + 1856.58109834041*qx31*qy21 + 1518.85816075515*qx31*qy22 + 14422.1685076662*qx31 + 1581.99370970496*qx32*qy22 + 983.528661636598*qx32*qy23 + 15275.2021757077*qx32 + 13.4298363592888*qy11*qy12 + 52.0485750944694*qy11 + 19.766137839589*qy12*qy13 + 199.447011913174*qy12 + 148.940823671759*qy13 + 403.872388174588*qy21*qy22 + 3153.47739931182*qy21 + 205.413851172856*qy22*qy23 + 5107.60044300764*qy22 + 1555.49621867083*qy23 + 17796.7417539254\n",
      "\\ This file has been generated by DOcplex\n",
      "\\ ENCODING=ISO-8859-1\n",
      "\\Problem name: CPLEX\n",
      "\n",
      "Minimize\n",
      " obj: 52.048575094469 qy11 + 199.447011913174 qy12 + 148.940823671759 qy13\n",
      "      + 3153.477399311825 qy21 + 5107.600443007645 qy22 + 1555.496218670832 qy23\n",
      "      + 4.494025601160 qx11 + 146.829215035232 qx12 + 1045.015219365960 qx21\n",
      "      + 2733.931065796766 qx22 + 14422.168507666169 qx31\n",
      "      + 15275.202175707705 qx32 + [ 26.859672718578 qy11*qy12\n",
      "      + 1.966306976911 qy11*qx11 + 44.188647268160 qy11*qx21\n",
      "      + 39.532275679178 qy12*qy13 + 2.548748768622 qy12*qx11\n",
      "      + 39.010594124690 qy12*qx12 + 57.277811468040 qy12*qx21\n",
      "      + 129.217509898594 qy12*qx22 + 44.295331327715 qy13*qx12\n",
      "      + 146.722513274359 qy13*qx22 + 807.744776349175 qy21*qy22\n",
      "      + 305.023735127420 qy21*qx21 + 3713.162196680815 qy21*qx31\n",
      "      + 410.827702345711 qy22*qy23 + 249.538137459457 qy22*qx21\n",
      "      + 562.952667373400 qy22*qx22 + 3037.716321510299 qy22*qx31\n",
      "      + 3163.987419409928 qy22*qx32 + 349.988802174044 qy23*qx22\n",
      "      + 1967.057323273197 qy23*qx32 + 4.193117373090 qx11*qx21\n",
      "      + 144.786312347691 qx12*qx22 + 1147.114293740792 qx21*qx31\n",
      "      + 2695.436945196998 qx22*qx32 ]/2 + 17796.741753925377\n",
      "Subject To\n",
      "\n",
      "Bounds\n",
      " 0 <= qy11 <= 1\n",
      " 0 <= qy12 <= 1\n",
      " 0 <= qy13 <= 1\n",
      " 0 <= qy21 <= 1\n",
      " 0 <= qy22 <= 1\n",
      " 0 <= qy23 <= 1\n",
      " 0 <= qx11 <= 1\n",
      " 0 <= qx12 <= 1\n",
      " 0 <= qx21 <= 1\n",
      " 0 <= qx22 <= 1\n",
      " 0 <= qx31 <= 1\n",
      " 0 <= qx32 <= 1\n",
      "\n",
      "Binaries\n",
      " qy11 qy12 qy13 qy21 qy22 qy23 qx11 qx12 qx21 qx22 qx31 qx32\n",
      "End\n",
      "\n",
      "\n",
      "run time: 32.8333523273468\n",
      "optimal function value: 17948.06499456177\n",
      "optimal value: [0. 0. 0. 0. 0. 0. 1. 1. 0. 0. 0. 0.]\n",
      "status: SUCCESS\n",
      "kx_res:  [[1 1]\n",
      " [1 1]\n",
      " [1 1]]\n",
      "ky_res:  [[2 2 1]\n",
      " [1 1 1]]\n"
     ]
    }
   ],
   "source": [
    "kx_res, ky_res = hydrologic_inverse_analysis_2D(kl, kh, dim, h_ext, verbose=True)"
   ]
  },
  {
   "cell_type": "markdown",
   "metadata": {},
   "source": [
    "Error rate:"
   ]
  },
  {
   "cell_type": "code",
   "execution_count": 30,
   "metadata": {},
   "outputs": [
    {
     "name": "stdout",
     "output_type": "stream",
     "text": [
      "Error Rate = 33.33333333333333%\n",
      "4\n"
     ]
    }
   ],
   "source": [
    "error_rate = evaluate_performance_2D(k_x,k_y,kx_res,ky_res, verbose=True)"
   ]
  },
  {
   "cell_type": "markdown",
   "metadata": {},
   "source": [
    "The error rate is still very high and needs to be approved in further attempts. \n",
    "\n",
    "A possible starting point would be to change the data creation and probabliy even the discretization method since the appendencies of one h-value from the other discretized h-values appearing in the above written formula is difficult to implement in a structured way."
   ]
  }
 ],
 "metadata": {
  "interpreter": {
   "hash": "f714f05e6ffb5ded92074cd2d65d63a36667b153e7558a65abc88f4ed2fc286e"
  },
  "kernelspec": {
   "display_name": "Python 3",
   "language": "python",
   "name": "python3"
  },
  "language_info": {
   "codemirror_mode": {
    "name": "ipython",
    "version": 3
   },
   "file_extension": ".py",
   "mimetype": "text/x-python",
   "name": "python",
   "nbconvert_exporter": "python",
   "pygments_lexer": "ipython3",
   "version": "3.8.5"
  }
 },
 "nbformat": 4,
 "nbformat_minor": 4
}
