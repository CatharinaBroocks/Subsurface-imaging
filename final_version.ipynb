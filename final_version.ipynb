{
 "cells": [
  {
   "cell_type": "code",
   "execution_count": 1,
   "metadata": {},
   "outputs": [],
   "source": [
    "# Import math functions (numpy) and sympy for creating formulars\n",
    "from IPython.display import clear_output\n",
    "import numpy as np\n",
    "import sympy as sp\n",
    "from fractions import Fraction\n",
    "import matplotlib.pyplot as plt"
   ]
  },
  {
   "cell_type": "code",
   "execution_count": 2,
   "metadata": {},
   "outputs": [],
   "source": [
    "# Import qiskit framework\n",
    "from qiskit import IBMQ\n",
    "from qiskit_optimization import QuadraticProgram\n",
    "from qiskit import Aer\n",
    "from qiskit.utils import QuantumInstance\n",
    "from qiskit_optimization.algorithms import MinimumEigenOptimizer\n",
    "from qiskit.algorithms import QAOA"
   ]
  },
  {
   "cell_type": "code",
   "execution_count": 3,
   "metadata": {},
   "outputs": [],
   "source": [
    "#IBMQ.load_account()\n",
    "#provider = IBMQ.get_provider(hub='ibm-q')"
   ]
  },
  {
   "cell_type": "code",
   "execution_count": 4,
   "metadata": {},
   "outputs": [],
   "source": [
    "clear_output()"
   ]
  },
  {
   "cell_type": "markdown",
   "metadata": {},
   "source": [
    "## Define Functions"
   ]
  },
  {
   "cell_type": "code",
   "execution_count": 5,
   "metadata": {},
   "outputs": [],
   "source": [
    "def construct_function(kl, kh, n, h):\n",
    "    \"\"\"Constructs the mathematical function to be optimized\n",
    "\n",
    "    Args:\n",
    "        kl (double): low k\n",
    "        kh (double): high k\n",
    "        n (int): number of heads\n",
    "        h (list): values for each of the heads\n",
    "\n",
    "    Returns:\n",
    "        sympyfunction, dict: mathematical sympy function with coefficients\n",
    "    \"\"\"\n",
    "    function = 0\n",
    "    sp.init_printing(use_unicode=True)\n",
    "    \n",
    "    # construct variables for each permeability\n",
    "    for i in range(1,n):\n",
    "        globals()['q%s' % i] = sp.symbols('q'+str(i))\n",
    "        globals()['h%s' % i] = sp.symbols('q'+str(i))\n",
    "        \n",
    "    # for each permeability, add its contribution to the total cost function\n",
    "    for i in range(2,n):\n",
    "        term = ((kl+globals()['q%s' % (i-1)]*(kh-kl))*(h[i-2]-h[i-1])+(kl+globals()['q%s' % (i)]*(kh-kl))*(h[i]-h[i-1]))**2\n",
    "        function = function + term\n",
    "        \n",
    "    # expand and simplify the cost function\n",
    "    function = sp.expand(function)\n",
    "    \n",
    "    # convert all square terms into linear terms as qi^2 = qi = 0 or 1 for all i and simplify the cost function\n",
    "    for i in range(1,n):\n",
    "        function = function.subs(sp.symbols('q'+str(i))**2, (sp.symbols('q'+str(i))))\n",
    "        coeffs = sp.Poly(function).as_dict()\n",
    "        \n",
    "    # function in sympy form and coefficients of all terms in an easily readble dictionary form returned\n",
    "    return function, coeffs"
   ]
  },
  {
   "cell_type": "code",
   "execution_count": 6,
   "metadata": {},
   "outputs": [],
   "source": [
    "def generate_QP(coeffs, n, verbose=False):\n",
    "    \"\"\"Generates the Quadratic Program to be optimized\n",
    "\n",
    "    Args:\n",
    "        coeffs (dict): Contains the coefficients from the sympy funciton\n",
    "        n (int): Number of heads\n",
    "\n",
    "    Returns:\n",
    "        QuadraticProgram: The quadratic program to optimize\n",
    "    \"\"\"\n",
    "    qp = QuadraticProgram()\n",
    "    for i in range(1,n):\n",
    "        qp.binary_var('q'+str(i))\n",
    "    constant = 0\n",
    "    linear = {}\n",
    "    quadratic = {}\n",
    "    for key,value in coeffs.items():\n",
    "        if sum(key) == 0:\n",
    "            constant = float(value)\n",
    "        elif sum(key) == 1:\n",
    "            term = 'q'+str(np.argmax(key)+1)\n",
    "            linear[term] = float(value)\n",
    "        else:\n",
    "            indices = [i[0] for i in np.argwhere(np.array(key)>0)]\n",
    "            term = ('q'+str(indices[0]+1),'q'+str(indices[1]+1))\n",
    "            quadratic[term] = float(value)\n",
    "    qp.minimize(linear=linear, quadratic=quadratic, constant=constant)\n",
    "    if verbose:\n",
    "        print(qp.export_as_lp_string())\n",
    "    return qp"
   ]
  },
  {
   "cell_type": "code",
   "execution_count": 7,
   "metadata": {},
   "outputs": [],
   "source": [
    "def hydrologic_inverse_analysis(kl,kh,n,h, verbose=False):\n",
    "    \"\"\"Constructs and solves the mathematical function\n",
    "\n",
    "    Args:\n",
    "        kl (double): low k\n",
    "        kh (double): high k\n",
    "        n (int): number of heads\n",
    "        h (list): values for each of the heads\n",
    "        verbose (Bool): Output information or not\n",
    "\n",
    "    Returns:\n",
    "        list: list with the estimated k values for the heads\n",
    "    \"\"\"\n",
    "    # Create the mathematical function\n",
    "    function, coeffs = construct_function(kl,kh,n,h)\n",
    "    if verbose:\n",
    "        print('Function in Sympy:', function)\n",
    "    # Generate the quadratic problem and solve it with Qiskit\n",
    "    qp = generate_QP(coeffs,n,verbose)\n",
    "    qins = QuantumInstance(backend=Aer.get_backend('qasm_simulator'), shots=1000, seed_simulator=123)\n",
    "    meo = MinimumEigenOptimizer(min_eigen_solver=QAOA(reps=1, quantum_instance=qins))\n",
    "    result = meo.solve(qp)\n",
    "    if verbose:\n",
    "        print('\\nrun time:', result.min_eigen_solver_result.optimizer_time)\n",
    "        print(result)\n",
    "    k = [int(i) for i in list(kl+result.x*(kh-kl))]\n",
    "    if verbose:\n",
    "        print('k_res: ', k)\n",
    "    return k"
   ]
  },
  {
   "cell_type": "code",
   "execution_count": 8,
   "metadata": {},
   "outputs": [],
   "source": [
    "def evaluate_performance(k_true,k_res, verbose=False):\n",
    "    \"\"\"Evaluate the performance of the estimation by calculating missmatches and comparing them to the total number of values\n",
    "\n",
    "    Args:\n",
    "        k_true (list): True k values\n",
    "        k_res (list): Estimated k values\n",
    "        verbose (Bool): Output information or not\n",
    "\n",
    "    Returns:\n",
    "        double: Error rate\n",
    "    \"\"\"\n",
    "    total_number = len(k_true)\n",
    "    false_count = 0\n",
    "    for i in range(len(k_true)):\n",
    "        if k_true[i] != k_res[i]:\n",
    "            false_count += 1\n",
    "    error_rate = false_count / total_number\n",
    "    if verbose:\n",
    "        print('Error Rate = '+ str(error_rate*100)+'%')\n",
    "    return error_rate"
   ]
  },
  {
   "cell_type": "code",
   "execution_count": 9,
   "metadata": {},
   "outputs": [],
   "source": [
    "def construct_function_2D(kl, kh, n, h):\n",
    "    \"\"\"Constructs the mathematical function to be optimized\n",
    "\n",
    "    Args:\n",
    "        kl (double): low k\n",
    "        kh (double): high k\n",
    "        n (int): number of heads\n",
    "        h (list): values for each of the heads\n",
    "\n",
    "    Returns:\n",
    "        sympyfunction, dict: mathematical sympy function with coefficients\n",
    "    \"\"\"\n",
    "    function = 0\n",
    "    sp.init_printing(use_unicode=True)\n",
    "    \n",
    "    # construct variables for each permeability\n",
    "    for i in range(1,n):\n",
    "        for j in range(1,n+1):\n",
    "            globals()['qy%s%s' %(i,j)] = sp.symbols('qy'+str(i)+str(j))\n",
    "    for i in range(1,n+1):\n",
    "        for j in range(1,n):\n",
    "            globals()['qx%s%s' %(i,j)] = sp.symbols('qx'+str(i)+str(j))\n",
    "        \n",
    "    # for each permeability, add its contribution to the total cost function\n",
    "    for i in range(2,n+1):\n",
    "        for j in range(2,n+1):\n",
    "            term = ((kl+globals()['qx%s%s' %(i-1,j-1)] *(kh-kl))*(h[i-1][j]-h[i][j])+(kl+globals()['qx%s%s' %(i,j-1)] *(kh-kl))*(h[i+1][j]-h[i][j])+(kl+globals()['qy%s%s' %(i-1,j-1)] *(kh-kl))*(h[i][j-1]-h[i][j])+(kl+globals()['qy%s%s' %(i-1,j)] *(kh-kl))*(h[i][j+1]-h[i][j]))**2\n",
    "            function = function + term\n",
    "        \n",
    "    # expand and simplify the cost function\n",
    "    function = sp.expand(function)\n",
    "    \n",
    "    # convert all square terms into linear terms as qi^2 = qi = 0 or 1 for all i and simplify the cost function\n",
    "    for i in range(1,n+1):\n",
    "        for j in range(1,n+1):\n",
    "            function = function.subs(sp.symbols('qx'+str(i)+str(j))**2, (sp.symbols('qx'+str(i)+str(j))))\n",
    "            function = function.subs(sp.symbols('qy'+str(i)+str(j))**2, (sp.symbols('qy'+str(i)+str(j))))\n",
    "    coeffs = sp.Poly(function).as_dict()\n",
    "        \n",
    "    # function in sympy form and coefficients of all terms in an easily readble dictionary form returned\n",
    "    return function, coeffs"
   ]
  },
  {
   "cell_type": "code",
   "execution_count": 10,
   "metadata": {},
   "outputs": [],
   "source": [
    "def coefficients_order_2D(n):\n",
    "    order_list = []\n",
    "    for i in range(1,n+1):\n",
    "        for j in range(1,n):\n",
    "            order_list.append('qx'+str(i)+str(j))\n",
    "    for i in range(1,n):\n",
    "        for j in range(1,n+1):\n",
    "            order_list.append('qy'+str(i)+str(j))\n",
    "    return order_list"
   ]
  },
  {
   "cell_type": "code",
   "execution_count": 11,
   "metadata": {},
   "outputs": [],
   "source": [
    "def generate_QP_2D(coeffs, n, verbose=False):\n",
    "    \"\"\"Generates the Quadratic Program to be optimized\n",
    "\n",
    "    Args:\n",
    "        coeffs (dict): Contains the coefficients from the sympy funciton\n",
    "        n (int): Number of heads\n",
    "\n",
    "    Returns:\n",
    "        QuadraticProgram: The quadratic program to optimize\n",
    "    \"\"\"\n",
    "    qp = QuadraticProgram()\n",
    "    for i in range(1,n):\n",
    "        for j in range(1,n+1):\n",
    "            qp.binary_var('qy'+str(i)+str(j))\n",
    "    for i in range(1,n+1):\n",
    "        for j in range(1,n):\n",
    "            qp.binary_var('qx'+str(i)+str(j))\n",
    "    constant = 0\n",
    "    linear = {}\n",
    "    quadratic = {}\n",
    "    order_list = coefficients_order_2D(n)\n",
    "    for key,value in coeffs.items():\n",
    "        if sum(key) == 0:\n",
    "            constant = float(value)\n",
    "        elif sum(key) == 1:\n",
    "            term = order_list[np.argmax(key)]\n",
    "            linear[term] = float(value)\n",
    "        else:\n",
    "            indices = [i[0] for i in np.argwhere(np.array(key)>0)]\n",
    "            term = (order_list[indices[0]],order_list[indices[1]])\n",
    "            quadratic[term] = float(value)\n",
    "    qp.minimize(linear=linear, quadratic=quadratic, constant=constant)\n",
    "    if verbose:\n",
    "        print(qp.export_as_lp_string())\n",
    "    return qp"
   ]
  },
  {
   "cell_type": "code",
   "execution_count": 12,
   "metadata": {},
   "outputs": [],
   "source": [
    "def hydrologic_inverse_analysis_2D(kl,kh,n,h, verbose=False):\n",
    "    \"\"\"Constructs and solves the mathematical function\n",
    "\n",
    "    Args:\n",
    "        kl (double): low k\n",
    "        kh (double): high k\n",
    "        n (int): number of heads\n",
    "        h (list): values for each of the heads\n",
    "        verbose (Bool): Output information or not\n",
    "\n",
    "    Returns:\n",
    "        list: list with the estimated k values for the heads\n",
    "    \"\"\"\n",
    "    # Create the mathematical function\n",
    "    function, coeffs = construct_function_2D(kl,kh,n,h)\n",
    "    if verbose:\n",
    "        print('Function in Sympy:', function)\n",
    "    # Generate the quadratic problem and solve it with Qiskit\n",
    "    qp = generate_QP_2D(coeffs,n,verbose)\n",
    "    qins = QuantumInstance(backend=Aer.get_backend('qasm_simulator'), shots=1000, seed_simulator=123)\n",
    "    meo = MinimumEigenOptimizer(min_eigen_solver=QAOA(reps=1, quantum_instance=qins))\n",
    "    result = meo.solve(qp)\n",
    "    if verbose:\n",
    "        print('\\nrun time:', result.min_eigen_solver_result.optimizer_time)\n",
    "        print(result)\n",
    "    k = [int(i) for i in list(kl+result.x*(kh-kl))]\n",
    "    kx= np.array(k[:n*(n-1)]).reshape((n,n-1))\n",
    "    ky = np.array(k[n*(n-1):]).reshape((n-1,n))\n",
    "    if verbose:\n",
    "        print('kx_res: ', kx)\n",
    "        print('ky_res: ', ky)\n",
    "    return kx, ky"
   ]
  },
  {
   "cell_type": "markdown",
   "metadata": {},
   "source": [
    "## Small 1D Problem"
   ]
  },
  {
   "cell_type": "markdown",
   "metadata": {},
   "source": [
    "Given: 3 heads with $h_1=1, h_2=\\frac{1}{3}, h_3=0$ <br>\n",
    "Assumption: $k_l = 1, k_h = 2$ <br>\n",
    "Task: minimize  $f(q_1, q_2) = \\frac{8}{9}q_1 − \\frac{1}{9}q_2 − \\frac{4}{9}q_1q_2 + \\frac{1}{9}$"
   ]
  },
  {
   "cell_type": "code",
   "execution_count": 13,
   "metadata": {},
   "outputs": [],
   "source": [
    "k_true = [1,2]"
   ]
  },
  {
   "cell_type": "code",
   "execution_count": 14,
   "metadata": {},
   "outputs": [],
   "source": [
    "kl = 1\n",
    "kh = 2\n",
    "n = 3\n",
    "h = [1,1/3,0]"
   ]
  },
  {
   "cell_type": "code",
   "execution_count": 15,
   "metadata": {},
   "outputs": [
    {
     "name": "stdout",
     "output_type": "stream",
     "text": [
      "Function in Sympy: -0.444444444444444*q1*q2 + 0.888888888888889*q1 - 0.111111111111111*q2 + 0.111111111111111\n",
      "\\ This file has been generated by DOcplex\n",
      "\\ ENCODING=ISO-8859-1\n",
      "\\Problem name: CPLEX\n",
      "\n",
      "Minimize\n",
      " obj: 0.888888888889 q1 - 0.111111111111 q2 + [ - 0.888888888889 q1*q2 ]/2 +\n",
      "      0.111111111111\n",
      "Subject To\n",
      "\n",
      "Bounds\n",
      " 0 <= q1 <= 1\n",
      " 0 <= q2 <= 1\n",
      "\n",
      "Binaries\n",
      " q1 q2\n",
      "End\n",
      "\n",
      "\n",
      "run time: 0.05808305740356445\n",
      "optimal function value: 2.7755575615628914e-17\n",
      "optimal value: [0. 1.]\n",
      "status: SUCCESS\n",
      "k_res:  [1, 2]\n"
     ]
    }
   ],
   "source": [
    "k_res = hydrologic_inverse_analysis(kl,kh,n,h,verbose=True)"
   ]
  },
  {
   "cell_type": "code",
   "execution_count": 16,
   "metadata": {},
   "outputs": [
    {
     "name": "stdout",
     "output_type": "stream",
     "text": [
      "Error Rate = 0.0%\n"
     ]
    }
   ],
   "source": [
    "error_rate = evaluate_performance(k_true, k_res, verbose=True)"
   ]
  },
  {
   "cell_type": "markdown",
   "metadata": {},
   "source": [
    "## Larger 1D Problem"
   ]
  },
  {
   "cell_type": "code",
   "execution_count": 17,
   "metadata": {},
   "outputs": [],
   "source": [
    "def generate_random_1D_data(kl, kh, n):\n",
    "    \"\"\"Generate random data for the value of the heads\n",
    "\n",
    "    Args:\n",
    "        kl (double): low k\n",
    "        kh (double): high k\n",
    "        n (int): number of heads\n",
    "\n",
    "    Returns:\n",
    "        list, list: Returns the random true k values and the linked head values\n",
    "    \"\"\"\n",
    "    k_true = np.random.randint(2, size=n-1)*(kh-kl) +kl\n",
    "    \n",
    "    h1=np.random.rand()\n",
    "    h2=np.random.rand()\n",
    "    h=np.array([h1,h2])\n",
    "    for i in range(1,n-1):\n",
    "        h_next = h[i]+k_true[i-1]/k_true[i]*(h[i]-h[i-1])\n",
    "        h=np.append(h, np.array([h_next]))\n",
    "    return k_true, h"
   ]
  },
  {
   "cell_type": "code",
   "execution_count": 18,
   "metadata": {},
   "outputs": [],
   "source": [
    "kl = 1\n",
    "kh = 2\n",
    "n = 15"
   ]
  },
  {
   "cell_type": "code",
   "execution_count": 19,
   "metadata": {},
   "outputs": [
    {
     "name": "stdout",
     "output_type": "stream",
     "text": [
      "k = [1 2 1 2 1 1 2 2 2 2 1 2 2 2]\n",
      "h = [0.7353587  0.93766797 1.0388226  1.24113187 1.3422865  1.54459577\n",
      " 1.74690504 1.84805967 1.9492143  2.05036894 2.15152357 2.35383284\n",
      " 2.45498747 2.5561421  2.65729674]\n"
     ]
    }
   ],
   "source": [
    "# Generate a dataset with true ks and the head values\n",
    "k_true, h = generate_random_1D_data(kl, kh, n)\n",
    "print(\"k =\", k_true)\n",
    "print(\"h =\", h)"
   ]
  },
  {
   "cell_type": "code",
   "execution_count": 20,
   "metadata": {
    "scrolled": true
   },
   "outputs": [
    {
     "name": "stdout",
     "output_type": "stream",
     "text": [
      "Function in Sympy: -0.0409290394063433*q1*q2 + 0.0818580788126865*q1 - 0.0409290394063434*q10*q11 - 0.0204645197031717*q10*q9 - 0.0409290394063434*q11*q12 + 0.163716157625374*q11 - 0.0204645197031717*q12*q13 - 0.0204645197031717*q13*q14 + 0.0204645197031717*q13 + 0.0102322598515859*q14 - 0.0409290394063433*q2*q3 - 0.0204645197031716*q2 - 0.0409290394063433*q3*q4 + 0.163716157625373*q3 - 0.0409290394063432*q4*q5 - 0.0204645197031717*q4 - 0.0818580788126864*q5*q6 + 0.12278711821903*q5 - 0.0409290394063432*q6*q7 + 0.12278711821903*q6 - 0.0204645197031716*q7*q8 - 0.0204645197031717*q8*q9 + 0.0204645197031716*q8 + 0.0204645197031717*q9 + 0.0716258189611008\n",
      "\\ This file has been generated by DOcplex\n",
      "\\ ENCODING=ISO-8859-1\n",
      "\\Problem name: CPLEX\n",
      "\n",
      "Minimize\n",
      " obj: 0.081858078813 q1 - 0.020464519703 q2 + 0.163716157625 q3\n",
      "      - 0.020464519703 q4 + 0.122787118219 q5 + 0.122787118219 q6\n",
      "      + 0.020464519703 q8 + 0.020464519703 q9 + 0.163716157625 q11\n",
      "      + 0.020464519703 q13 + 0.010232259852 q14 + [ - 0.081858078813 q1*q2\n",
      "      - 0.081858078813 q2*q3 - 0.081858078813 q3*q4 - 0.081858078813 q4*q5\n",
      "      - 0.163716157625 q5*q6 - 0.081858078813 q6*q7 - 0.040929039406 q7*q8\n",
      "      - 0.040929039406 q8*q9 - 0.040929039406 q9*q10 - 0.081858078813 q10*q11\n",
      "      - 0.081858078813 q11*q12 - 0.040929039406 q12*q13 - 0.040929039406 q13*q14\n",
      "      ]/2 + 0.071625818961\n",
      "Subject To\n",
      "\n",
      "Bounds\n",
      " 0 <= q1 <= 1\n",
      " 0 <= q2 <= 1\n",
      " 0 <= q3 <= 1\n",
      " 0 <= q4 <= 1\n",
      " 0 <= q5 <= 1\n",
      " 0 <= q6 <= 1\n",
      " 0 <= q7 <= 1\n",
      " 0 <= q8 <= 1\n",
      " 0 <= q9 <= 1\n",
      " 0 <= q10 <= 1\n",
      " 0 <= q11 <= 1\n",
      " 0 <= q12 <= 1\n",
      " 0 <= q13 <= 1\n",
      " 0 <= q14 <= 1\n",
      "\n",
      "Binaries\n",
      " q1 q2 q3 q4 q5 q6 q7 q8 q9 q10 q11 q12 q13 q14\n",
      "End\n",
      "\n",
      "\n",
      "run time: 1.7113347053527832\n",
      "optimal function value: 0.02046451970317161\n",
      "optimal value: [0. 1. 0. 1. 0. 0. 1. 1. 0. 0. 0. 1. 1. 1.]\n",
      "status: SUCCESS\n",
      "k_res:  [1, 2, 1, 2, 1, 1, 2, 2, 1, 1, 1, 2, 2, 2]\n"
     ]
    }
   ],
   "source": [
    "# Estimate the k values, given only the head values\n",
    "k_res = hydrologic_inverse_analysis(kl,kh,n,h,verbose=True)"
   ]
  },
  {
   "cell_type": "code",
   "execution_count": 21,
   "metadata": {},
   "outputs": [
    {
     "name": "stdout",
     "output_type": "stream",
     "text": [
      "Error Rate = 14.285714285714285%\n"
     ]
    }
   ],
   "source": [
    "# Compare the estimation\n",
    "error_rate = evaluate_performance(k_true, k_res, verbose=True)"
   ]
  },
  {
   "cell_type": "markdown",
   "metadata": {},
   "source": [
    "## 1D Problem Performance Analysis\n",
    "Show how the number of heads influences the estimation error"
   ]
  },
  {
   "cell_type": "code",
   "execution_count": 22,
   "metadata": {},
   "outputs": [
    {
     "name": "stdout",
     "output_type": "stream",
     "text": [
      "Current run:  1\n",
      "Current run:  2\n",
      "Current run:  3\n",
      "Current run:  4\n",
      "Current run:  5\n",
      "Current run:  6\n",
      "Current run:  7\n",
      "Current run:  8\n",
      "Current run:  9\n",
      "Current run:  10\n"
     ]
    },
    {
     "data": {
      "image/png": "[encoded data removed]",
      "text/plain": [
       "<Figure size 432x288 with 1 Axes>"
      ]
     },
     "metadata": {
      "needs_background": "light"
     },
     "output_type": "display_data"
    }
   ],
   "source": [
    "# Set everything up\n",
    "runtime = 10\n",
    "num_heads = 15\n",
    "error_set = []\n",
    "avg_set = []\n",
    "# Start the runtime\n",
    "for i in range(runtime):\n",
    "    print(\"Current run: \", i+1)\n",
    "    heads = []\n",
    "    error_rates = []\n",
    "    kl = 1\n",
    "    kh = 2\n",
    "    # Calculate the values for different amounts of heads\n",
    "    for n in range(3,num_heads+1):\n",
    "        k_true, h = generate_random_1D_data(kl, kh, n)\n",
    "        k_res = hydrologic_inverse_analysis(kl, kh, n, h)\n",
    "        error_rate = evaluate_performance(k_true, k_res)\n",
    "        heads.append(len(h))\n",
    "        error_rates.append(error_rate)\n",
    "    error_set.append(error_rates)\n",
    "# Do the statisics, take the average for each amount of heads\n",
    "for i in range(num_heads-2):\n",
    "    avg = 0\n",
    "    for j in range(runtime):\n",
    "        avg+=error_set[j][i]\n",
    "    avg_set.append(avg/runtime*100)\n",
    "\n",
    "plt.plot(heads, avg_set)\n",
    "plt.xlabel(\"Number of heads\")\n",
    "plt.ylabel(\"Avg error percentage\")\n",
    "plt.show()"
   ]
  },
  {
   "cell_type": "markdown",
   "metadata": {},
   "source": [
    "## 2D Problem"
   ]
  },
  {
   "cell_type": "markdown",
   "metadata": {},
   "source": [
    "### Creating hydraulic head values"
   ]
  },
  {
   "cell_type": "markdown",
   "metadata": {},
   "source": [
    "Creation of extended random binary-valued $k_{x,ext}$ and $k_{y,ext}$ arrays with 2 columns and rows more than we will extract from the inverse analysis.\n",
    "For the $h_{ext}$ we choose the first two rows and the left and right column with random values to calculate a fitting (dim x dim) array for the $h$-values using formula (3) from the nature paper. "
   ]
  },
  {
   "cell_type": "code",
   "execution_count": 23,
   "metadata": {},
   "outputs": [],
   "source": [
    "dim=3\n",
    "k_l=1 #low permeability\n",
    "k_h=2 #high permeability\n",
    "\n",
    "k_x_ext=np.random.randint(k_l, k_h+1, size=(dim+2, dim+1) )\n",
    "k_y_ext=np.random.randint(k_l, k_h+1, size=(dim+1, dim+2) )\n",
    "h_ext=np.random.rand(dim+2, dim+2) "
   ]
  },
  {
   "cell_type": "code",
   "execution_count": 24,
   "metadata": {},
   "outputs": [],
   "source": [
    "#above fields were used to obtain simulated hydraulic heads - equation 3 from the paper\n",
    "for i in range(1,dim+1):\n",
    "    for j in range(1, dim+1):\n",
    "        h_ext[i+1][j]=-(1/k_x_ext[i][j-1])*(k_x_ext[i-1][j-1]*h_ext[i-1][j]-\n",
    "                      k_y_ext[i-1][j-1]*h_ext[i][j-1]-\n",
    "                      k_y_ext[i-1][j]*h_ext[i][j+1]+\n",
    "                      (k_x_ext[i-1][j-1]+k_x_ext[i][j-1]+k_y_ext[i-1][j]+k_y_ext[i-1][j-1])*h_ext[i][j])\n",
    "\n",
    "h = h_ext[1:dim+1,1:dim+1]\n",
    "k_x= k_x_ext[1:dim+1,1:dim]\n",
    "k_y= k_y_ext[1:dim+1,1:dim+1]"
   ]
  },
  {
   "cell_type": "code",
   "execution_count": 25,
   "metadata": {},
   "outputs": [
    {
     "name": "stdout",
     "output_type": "stream",
     "text": [
      "k_x_ext = [[1 1 1 1]\n",
      " [2 2 2 2]\n",
      " [2 1 2 2]\n",
      " [2 2 2 2]\n",
      " [1 1 1 2]]\n",
      "k_y_ext =  [[2 1 1 1 1]\n",
      " [2 1 1 2 1]\n",
      " [2 1 1 1 2]\n",
      " [1 1 2 1 2]]\n",
      "h_ext = [[  0.06311814   0.7147349    0.06937761   0.2951601    0.11824296]\n",
      " [  0.32836544   0.57314392   0.11526522   0.57593042   0.44864479]\n",
      " [  0.30412962  -1.69080118   0.25168533  -1.30545111   0.65666151]\n",
      " [  0.68577661   5.77463247  -4.48520935   4.77565263   0.49368821]\n",
      " [  0.82320611 -20.07724053  16.36232325 -15.01726734   0.49867764]]\n"
     ]
    }
   ],
   "source": [
    "print(\"k_x_ext =\", k_x_ext) #4 Zeilen, 3 Spalten\n",
    "print(\"k_y_ext = \", k_y_ext)\n",
    "print(\"h_ext =\", h_ext)"
   ]
  },
  {
   "cell_type": "code",
   "execution_count": 26,
   "metadata": {},
   "outputs": [
    {
     "name": "stdout",
     "output_type": "stream",
     "text": [
      "k_x = [[2 2]\n",
      " [1 2]\n",
      " [2 2]]\n",
      "k_y =  [[1 1 2]\n",
      " [1 1 1]\n",
      " [1 2 1]]\n",
      "h = [[ 0.57314392  0.11526522  0.57593042]\n",
      " [-1.69080118  0.25168533 -1.30545111]\n",
      " [ 5.77463247 -4.48520935  4.77565263]]\n"
     ]
    }
   ],
   "source": [
    "print(\"k_x =\", k_x) #4 Zeilen, 3 Spalten\n",
    "print(\"k_y = \", k_y)\n",
    "print(\"h =\", h)"
   ]
  },
  {
   "cell_type": "code",
   "execution_count": 27,
   "metadata": {},
   "outputs": [
    {
     "name": "stdout",
     "output_type": "stream",
     "text": [
      "Function in Sympy: 1.29241535753907*qx11*qx21 + 0.529988433330875*qx11*qy11 + 0.424849438398043*qx11*qy12 + 2.30308456619963*qx11 + 22.8817525270586*qx12*qx22 + 5.85913545963227*qx12*qy12 + 7.38296488010048*qx12*qy13 + 46.7426422768673*qx12 + 197.505132138045*qx21*qx31 + 18.4027079109788*qx21*qy11 + 14.7519825514786*qx21*qy12 + 97.1995800551938*qx21*qy21 + 87.7354554602555*qx21*qy22 + 551.516300233438*qx21 + 240.725599066888*qx22*qx32 + 18.9382163680456*qx22*qy12 + 23.8636207168011*qx22*qy13 + 112.632524669628*qx22*qy22 + 52.0781395995944*qx22*qy23 + 692.998788785782*qx22 + 427.78477341578*qx31*qy21 + 386.132243712201*qx31*qy22 + 2315.28099544855*qx31 + 366.598999672559*qx32*qy22 + 169.505157928572*qx32*qy23 + 1952.10879892092*qx32 + 6.04943300570938*qy11*qy12 + 36.301890769471*qy11 + 6.11055408328893*qy12*qy13 + 66.6822141475137*qy12 + 48.9067974340603*qy13 + 190.029957846173*qy21*qy22 + 1030.80737360292*qy21 + 79.3093628431031*qy22*qy23 + 1737.01993107596*qy22 + 355.8983181306*qy23 + 3790.09722751088\n",
      "\\ This file has been generated by DOcplex\n",
      "\\ ENCODING=ISO-8859-1\n",
      "\\Problem name: CPLEX\n",
      "\n",
      "Minimize\n",
      " obj: 36.301890769471 qy11 + 66.682214147514 qy12 + 48.906797434060 qy13\n",
      "      + 1030.807373602922 qy21 + 1737.019931075959 qy22 + 355.898318130600 qy23\n",
      "      + 2.303084566200 qx11 + 46.742642276867 qx12 + 551.516300233438 qx21\n",
      "      + 692.998788785782 qx22 + 2315.280995448551 qx31 + 1952.108798920924 qx32\n",
      "      + [ 12.098866011419 qy11*qy12 + 1.059976866662 qy11*qx11\n",
      "      + 36.805415821958 qy11*qx21 + 12.221108166578 qy12*qy13\n",
      "      + 0.849698876796 qy12*qx11 + 11.718270919265 qy12*qx12\n",
      "      + 29.503965102957 qy12*qx21 + 37.876432736091 qy12*qx22\n",
      "      + 14.765929760201 qy13*qx12 + 47.727241433602 qy13*qx22\n",
      "      + 380.059915692347 qy21*qy22 + 194.399160110388 qy21*qx21\n",
      "      + 855.569546831559 qy21*qx31 + 158.618725686206 qy22*qy23\n",
      "      + 175.470910920511 qy22*qx21 + 225.265049339257 qy22*qx22\n",
      "      + 772.264487424401 qy22*qx31 + 733.197999345117 qy22*qx32\n",
      "      + 104.156279199189 qy23*qx22 + 339.010315857144 qy23*qx32\n",
      "      + 2.584830715078 qx11*qx21 + 45.763505054117 qx12*qx22\n",
      "      + 395.010264276091 qx21*qx31 + 481.451198133776 qx22*qx32 ]/2 +\n",
      "      3790.097227510880\n",
      "Subject To\n",
      "\n",
      "Bounds\n",
      " 0 <= qy11 <= 1\n",
      " 0 <= qy12 <= 1\n",
      " 0 <= qy13 <= 1\n",
      " 0 <= qy21 <= 1\n",
      " 0 <= qy22 <= 1\n",
      " 0 <= qy23 <= 1\n",
      " 0 <= qx11 <= 1\n",
      " 0 <= qx12 <= 1\n",
      " 0 <= qx21 <= 1\n",
      " 0 <= qx22 <= 1\n",
      " 0 <= qx31 <= 1\n",
      " 0 <= qx32 <= 1\n",
      "\n",
      "Binaries\n",
      " qy11 qy12 qy13 qy21 qy22 qy23 qx11 qx12 qx21 qx22 qx31 qx32\n",
      "End\n",
      "\n",
      "\n",
      "run time: 26.365056037902832\n",
      "optimal function value: 3839.142954353947\n",
      "optimal value: [0. 0. 0. 0. 0. 0. 1. 1. 0. 0. 0. 0.]\n",
      "status: SUCCESS\n",
      "kx_res:  [[1 1]\n",
      " [1 1]\n",
      " [1 1]]\n",
      "ky_res:  [[2 2 1]\n",
      " [1 1 1]]\n"
     ]
    }
   ],
   "source": [
    "kx_res, ky_res = hydrologic_inverse_analysis_2D(kl, kh, dim, h_ext, verbose=True)"
   ]
  }
 ],
 "metadata": {
  "interpreter": {
   "hash": "f714f05e6ffb5ded92074cd2d65d63a36667b153e7558a65abc88f4ed2fc286e"
  },
  "kernelspec": {
   "display_name": "Python 3",
   "language": "python",
   "name": "python3"
  },
  "language_info": {
   "codemirror_mode": {
    "name": "ipython",
    "version": 3
   },
   "file_extension": ".py",
   "mimetype": "text/x-python",
   "name": "python",
   "nbconvert_exporter": "python",
   "pygments_lexer": "ipython3",
   "version": "3.8.5"
  }
 },
 "nbformat": 4,
 "nbformat_minor": 4
}
