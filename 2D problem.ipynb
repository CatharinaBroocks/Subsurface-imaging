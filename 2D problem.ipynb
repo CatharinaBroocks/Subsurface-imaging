{
 "cells": [
  {
   "cell_type": "code",
   "execution_count": 7,
   "metadata": {},
   "outputs": [],
   "source": [
    "from IPython.display import clear_output\n",
    "from qiskit import Aer\n",
    "from qiskit import IBMQ\n",
    "from qiskit_optimization import QuadraticProgram\n",
    "from qiskit import Aer\n",
    "from qiskit.utils import QuantumInstance\n",
    "from qiskit_optimization.algorithms import MinimumEigenOptimizer\n",
    "from qiskit.algorithms import QAOA\n",
    "import numpy as np\n"
   ]
  },
  {
   "cell_type": "code",
   "execution_count": 3,
   "metadata": {},
   "outputs": [],
   "source": [
    "clear_output()"
   ]
  },
  {
   "cell_type": "markdown",
   "metadata": {},
   "source": [
    "# Creating hydraulic head values"
   ]
  },
  {
   "cell_type": "code",
   "execution_count": null,
   "metadata": {},
   "outputs": [],
   "source": [
    "dim=4\n",
    "k_l=1 #low permeability\n",
    "k_h=2 #high permeability\n",
    "#h_ij hydraulic head at node i\n",
    "#kx_ij (ky_ij) horizontal (vertical) permeability \n",
    "k_x=np.random.randint(k_l, k_h+1, size=(dim+1, dim) )\n",
    "k_y=np.random.randint(k_l, k_h+1, size=(dim, dim+1) )\n",
    "h=np.random.rand(dim+1, dim+1) \n"
   ]
  },
  {
   "cell_type": "code",
   "execution_count": 33,
   "metadata": {},
   "outputs": [
    {
     "name": "stdout",
     "output_type": "stream",
     "text": [
      "[[2 2 1 1]\n",
      " [2 1 1 2]\n",
      " [2 2 1 2]\n",
      " [1 1 2 1]\n",
      " [2 2 2 2]]\n",
      "[[2 2 1 1 2]\n",
      " [1 2 2 2 2]\n",
      " [2 2 2 2 2]\n",
      " [1 2 1 2 2]]\n",
      "[[0.92420602 0.05889673 0.32580387 0.8604932  0.76175347]\n",
      " [0.56026595 0.89614219 0.6300212  0.72079525 0.52733733]\n",
      " [0.22493515 0.88513074 0.22599345 0.70024428 0.54373401]\n",
      " [0.36814606 0.27291549 0.56244359 0.6864244  0.53539089]\n",
      " [0.36350212 0.08958007 0.26524922 0.8374421  0.09943254]]\n"
     ]
    }
   ],
   "source": [
    "print(k_x)\n",
    "print(k_y)\n",
    "print(h)"
   ]
  },
  {
   "cell_type": "code",
   "execution_count": 41,
   "metadata": {},
   "outputs": [
    {
     "name": "stdout",
     "output_type": "stream",
     "text": [
      "[[  0.92420602   0.05889673   0.32580387   0.8604932    0.76175347]\n",
      " [  0.56026595   0.89614219   0.6300212    0.72079525   0.52733733]\n",
      " [  0.22493515  -2.33538487  -1.24546104  -1.58612452   0.54373401]\n",
      " [  0.36814606   7.93699576   0.75261486  10.42021281   0.53539089]\n",
      " [  0.36350212 -53.41548063  28.95519102 -30.76569495   0.09943254]]\n"
     ]
    }
   ],
   "source": [
    "#above fields were used to obtain simulated hydraulic heads - equation 3 from the paper\n",
    "for j in range(1,dim):\n",
    "    for i in range(1, dim):\n",
    "        h[i+1][j]=(1/k_x[i][j-1])*(k_x[i-1][j-1]*h[i-1][j]+\n",
    "         k_y[i-1][j-1]*h[i][j-1]+\n",
    "         k_y[i-1][j]*h[i][j+1]-\n",
    "         (k_x[i-1][j-1]+k_x[i][j-j]+k_y[i-1][j]+k_y[i-1][j-1])*h[i][j])\n",
    "        \n",
    "print(h)  \n",
    "#does not work properly...sorry, maybe use this values for now and I look into it tomorrow"
   ]
  },
  {
   "cell_type": "code",
   "execution_count": null,
   "metadata": {},
   "outputs": [],
   "source": []
  },
  {
   "cell_type": "code",
   "execution_count": null,
   "metadata": {
    "scrolled": true
   },
   "outputs": [],
   "source": []
  },
  {
   "cell_type": "code",
   "execution_count": null,
   "metadata": {},
   "outputs": [],
   "source": []
  },
  {
   "cell_type": "code",
   "execution_count": null,
   "metadata": {},
   "outputs": [],
   "source": []
  }
 ],
 "metadata": {
  "kernelspec": {
   "display_name": "Python 3",
   "language": "python",
   "name": "python3"
  },
  "language_info": {
   "codemirror_mode": {
    "name": "ipython",
    "version": 3
   },
   "file_extension": ".py",
   "mimetype": "text/x-python",
   "name": "python",
   "nbconvert_exporter": "python",
   "pygments_lexer": "ipython3",
   "version": "3.6.13"
  }
 },
 "nbformat": 4,
 "nbformat_minor": 2
}
