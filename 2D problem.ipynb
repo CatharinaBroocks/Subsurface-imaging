{
 "cells": [
  {
   "cell_type": "code",
   "execution_count": 1,
   "metadata": {},
   "outputs": [],
   "source": [
    "import numpy as np"
   ]
  },
  {
   "cell_type": "markdown",
   "metadata": {},
   "source": [
    "# Creating hydraulic head values"
   ]
  },
  {
   "cell_type": "markdown",
   "metadata": {},
   "source": [
    "Creation of extended random binary-valued $k_{x,ext}$ and $k_{y,ext}$ arrays with 2 columns and rows more than we will extract from the inverse analysis.\n",
    "For the $h_{ext}$ we choose the first two rows and the left and right column with random values to calculate a fitting (dim x dim) array for the $h$-values using formula (3) from the nature paper. "
   ]
  },
  {
   "cell_type": "code",
   "execution_count": 2,
   "metadata": {},
   "outputs": [],
   "source": [
    "dim=4\n",
    "k_l=1 #low permeability\n",
    "k_h=2 #high permeability\n",
    "\n",
    "k_x_ext=np.random.randint(k_l, k_h+1, size=(dim+2, dim+1) )\n",
    "k_y_ext=np.random.randint(k_l, k_h+1, size=(dim+1, dim+2) )\n",
    "h_ext=np.random.rand(dim+2, dim+2) "
   ]
  },
  {
   "cell_type": "code",
   "execution_count": 3,
   "metadata": {},
   "outputs": [],
   "source": [
    "#above fields were used to obtain simulated hydraulic heads - equation 3 from the paper\n",
    "for i in range(1,dim+1):\n",
    "    for j in range(1, dim+1):\n",
    "        h_ext[i+1][j]=(1/k_x_ext[i][j-1])*(k_x_ext[i-1][j-1]*h_ext[i-1][j]+\n",
    "                      k_y_ext[i-1][j-1]*h_ext[i][j-1]+\n",
    "                      k_y_ext[i-1][j]*h_ext[i][j+1]-\n",
    "                      (k_x_ext[i-1][j-1]+k_x_ext[i][j-j]+k_y_ext[i-1][j]+k_y_ext[i-1][j-1])*h_ext[i][j])\n",
    "\n",
    "h = h_ext[2:,1:dim+1]\n",
    "k_x= k_x_ext[2:,1:dim]\n",
    "k_y= k_y_ext[2:,1:dim+1]"
   ]
  },
  {
   "cell_type": "code",
   "execution_count": 4,
   "metadata": {},
   "outputs": [
    {
     "name": "stdout",
     "output_type": "stream",
     "text": [
      "k_x_ext = [[2 1 2 1 2]\n",
      " [1 2 2 1 1]\n",
      " [2 1 1 1 2]\n",
      " [2 2 1 2 1]\n",
      " [1 2 1 2 1]\n",
      " [1 1 1 1 2]]\n",
      "k_y_ext =  [[2 1 1 2 2 1]\n",
      " [2 1 1 2 1 2]\n",
      " [1 2 1 2 2 1]\n",
      " [2 1 1 1 1 2]\n",
      " [1 2 1 2 1 2]]\n",
      "h_ext = [[ 1.74315904e-01  5.85957848e-01  1.47729828e-01  8.08285413e-01\n",
      "   5.73458968e-01  3.28881112e-02]\n",
      " [ 9.96811268e-01  3.19204475e-01  6.48520537e-01  9.16085099e-01\n",
      "   7.92625559e-01  1.07016998e-02]\n",
      " [ 3.03036849e-01  1.89883192e+00 -6.05531372e-01 -8.23084057e-01\n",
      "  -2.32872079e+00  5.93135126e-01]\n",
      " [ 2.72055920e-01 -5.53662235e+00  6.00597717e+00  2.33078565e+00\n",
      "   1.37119173e+01  7.89376631e-01]\n",
      " [ 9.05796900e-01  2.74190153e+01 -2.26919267e+01  1.86220138e+01\n",
      "  -4.60359086e+01  7.91557293e-01]\n",
      " [ 5.11748701e-01 -1.96467669e+02  8.57563086e+01 -1.40885105e+02\n",
      "   1.38508474e+02  1.02422513e-01]]\n"
     ]
    }
   ],
   "source": [
    "print(\"k_x_ext =\", k_x_ext) #4 Zeilen, 3 Spalten\n",
    "print(\"k_y_ext = \", k_y_ext)\n",
    "print(\"h_ext =\", h_ext)"
   ]
  },
  {
   "cell_type": "code",
   "execution_count": 5,
   "metadata": {},
   "outputs": [
    {
     "name": "stdout",
     "output_type": "stream",
     "text": [
      "k_x = [[1 1 1]\n",
      " [2 1 2]\n",
      " [2 1 2]\n",
      " [1 1 1]]\n",
      "k_y =  [[2 1 2 2]\n",
      " [1 1 1 1]\n",
      " [2 1 2 1]]\n",
      "h = [[   1.89883192   -0.60553137   -0.82308406   -2.32872079]\n",
      " [  -5.53662235    6.00597717    2.33078565   13.7119173 ]\n",
      " [  27.41901529  -22.69192673   18.62201382  -46.03590865]\n",
      " [-196.46766938   85.75630855 -140.88510503  138.50847448]]\n"
     ]
    }
   ],
   "source": [
    "print(\"k_x =\", k_x) #4 Zeilen, 3 Spalten\n",
    "print(\"k_y = \", k_y)\n",
    "print(\"h =\", h)"
   ]
  }
 ],
 "metadata": {
  "kernelspec": {
   "display_name": "Python 3",
   "language": "python",
   "name": "python3"
  },
  "language_info": {
   "codemirror_mode": {
    "name": "ipython",
    "version": 3
   },
   "file_extension": ".py",
   "mimetype": "text/x-python",
   "name": "python",
   "nbconvert_exporter": "python",
   "pygments_lexer": "ipython3",
   "version": "3.8.5"
  }
 },
 "nbformat": 4,
 "nbformat_minor": 2
}
